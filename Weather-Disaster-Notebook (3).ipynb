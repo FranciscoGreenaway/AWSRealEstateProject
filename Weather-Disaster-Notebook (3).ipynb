{
 "cells": [
  {
   "cell_type": "markdown",
   "id": "2f6fdfa2",
   "metadata": {},
   "source": [
    "# Packages that need to be installed initially\n"
   ]
  },
  {
   "cell_type": "code",
   "execution_count": 183,
   "id": "348c9255",
   "metadata": {},
   "outputs": [
    {
     "data": {
      "application/vnd.jupyter.widget-view+json": {
       "model_id": "ed441de29da04b00a881b7371fb8021f",
       "version_major": 2,
       "version_minor": 0
      },
      "text/plain": [
       "VBox()"
      ]
     },
     "metadata": {},
     "output_type": "display_data"
    },
    {
     "data": {
      "application/vnd.jupyter.widget-view+json": {
       "model_id": "",
       "version_major": 2,
       "version_minor": 0
      },
      "text/plain": [
       "FloatProgress(value=0.0, bar_style='info', description='Progress:', layout=Layout(height='25px', width='50%'),…"
      ]
     },
     "metadata": {},
     "output_type": "display_data"
    }
   ],
   "source": [
    "# sc.install_pypi_package(\"pandas==0.25.1\")\n",
    "# sc.list_packages()"
   ]
  },
  {
   "cell_type": "code",
   "execution_count": 201,
   "id": "e8bf7212",
   "metadata": {
    "scrolled": true
   },
   "outputs": [
    {
     "data": {
      "application/vnd.jupyter.widget-view+json": {
       "model_id": "26ed4b7b4a874082b3a5fbb345e4f355",
       "version_major": 2,
       "version_minor": 0
      },
      "text/plain": [
       "VBox()"
      ]
     },
     "metadata": {},
     "output_type": "display_data"
    },
    {
     "data": {
      "application/vnd.jupyter.widget-view+json": {
       "model_id": "",
       "version_major": 2,
       "version_minor": 0
      },
      "text/plain": [
       "FloatProgress(value=0.0, bar_style='info', description='Progress:', layout=Layout(height='25px', width='50%'),…"
      ]
     },
     "metadata": {},
     "output_type": "display_data"
    }
   ],
   "source": [
    "import pandas as pd\n",
    "from pyspark.sql.functions import explode, col, split, regexp_replace, lit, concat\n",
    "from pyspark.sql import functions as F"
   ]
  },
  {
   "cell_type": "code",
   "execution_count": null,
   "id": "e0071b2f",
   "metadata": {},
   "outputs": [],
   "source": [
    "spark"
   ]
  },
  {
   "cell_type": "markdown",
   "id": "13342015",
   "metadata": {},
   "source": [
    "# Disaster Declaration County/State"
   ]
  },
  {
   "cell_type": "code",
   "execution_count": 210,
   "id": "e7e214c0",
   "metadata": {},
   "outputs": [
    {
     "data": {
      "application/vnd.jupyter.widget-view+json": {
       "model_id": "5a3ea2acff7c48ffa3c07479cd4a9a42",
       "version_major": 2,
       "version_minor": 0
      },
      "text/plain": [
       "VBox()"
      ]
     },
     "metadata": {},
     "output_type": "display_data"
    },
    {
     "data": {
      "application/vnd.jupyter.widget-view+json": {
       "model_id": "",
       "version_major": 2,
       "version_minor": 0
      },
      "text/plain": [
       "FloatProgress(value=0.0, bar_style='info', description='Progress:', layout=Layout(height='25px', width='50%'),…"
      ]
     },
     "metadata": {},
     "output_type": "display_data"
    }
   ],
   "source": [
    "county = \"Lee county\"\n",
    "state = \"Florida\""
   ]
  },
  {
   "cell_type": "markdown",
   "id": "8b10a9e8",
   "metadata": {},
   "source": [
    "# Read JSON into DF"
   ]
  },
  {
   "cell_type": "code",
   "execution_count": 185,
   "id": "1a6c9654",
   "metadata": {
    "scrolled": true
   },
   "outputs": [
    {
     "data": {
      "application/vnd.jupyter.widget-view+json": {
       "model_id": "ced7609a323d43db86e4fa35c52bda10",
       "version_major": 2,
       "version_minor": 0
      },
      "text/plain": [
       "VBox()"
      ]
     },
     "metadata": {},
     "output_type": "display_data"
    },
    {
     "data": {
      "application/vnd.jupyter.widget-view+json": {
       "model_id": "",
       "version_major": 2,
       "version_minor": 0
      },
      "text/plain": [
       "FloatProgress(value=0.0, bar_style='info', description='Progress:', layout=Layout(height='25px', width='50%'),…"
      ]
     },
     "metadata": {},
     "output_type": "display_data"
    },
    {
     "name": "stdout",
     "output_type": "stream",
     "text": [
      "root\n",
      " |-- DisasterDeclarationsSummaries: array (nullable = true)\n",
      " |    |-- element: struct (containsNull = true)\n",
      " |    |    |-- declarationDate: string (nullable = true)\n",
      " |    |    |-- declarationTitle: string (nullable = true)\n",
      " |    |    |-- designatedArea: string (nullable = true)\n",
      " |    |    |-- disasterNumber: long (nullable = true)\n",
      " |    |    |-- id: string (nullable = true)\n",
      " |    |    |-- incidentBeginDate: string (nullable = true)\n",
      " |    |    |-- incidentType: string (nullable = true)\n",
      " |    |    |-- placeCode: string (nullable = true)\n",
      " |    |    |-- state: string (nullable = true)\n",
      " |-- metadata: struct (nullable = true)\n",
      " |    |-- DeprecationInformation: struct (nullable = true)\n",
      " |    |    |-- depApiMessage: string (nullable = true)\n",
      " |    |    |-- depDate: string (nullable = true)\n",
      " |    |    |-- depNewURL: string (nullable = true)\n",
      " |    |    |-- depWebMessage: string (nullable = true)\n",
      " |    |-- count: long (nullable = true)\n",
      " |    |-- entityname: string (nullable = true)\n",
      " |    |-- filter: string (nullable = true)\n",
      " |    |-- format: string (nullable = true)\n",
      " |    |-- metadata: boolean (nullable = true)\n",
      " |    |-- rundate: string (nullable = true)\n",
      " |    |-- select: string (nullable = true)\n",
      " |    |-- skip: long (nullable = true)\n",
      " |    |-- top: long (nullable = true)\n",
      " |    |-- url: string (nullable = true)\n",
      " |    |-- version: string (nullable = true)"
     ]
    }
   ],
   "source": [
    "spark_disasters_df = spark.read.json(\"s3://real-estate-extracted-data/disasters/disaster_declarations-lehigh acres-fl.json\")\n",
    "\n",
    "spark_disasters_df.printSchema()"
   ]
  },
  {
   "cell_type": "markdown",
   "id": "f29c59ca",
   "metadata": {},
   "source": [
    "# Explode DisasterDeclarationsSummaries Array and Normalize DF"
   ]
  },
  {
   "cell_type": "code",
   "execution_count": 59,
   "id": "1d7460d9",
   "metadata": {},
   "outputs": [
    {
     "data": {
      "application/vnd.jupyter.widget-view+json": {
       "model_id": "3abadf5e61a5444e8cc214c66d947b7f",
       "version_major": 2,
       "version_minor": 0
      },
      "text/plain": [
       "VBox()"
      ]
     },
     "metadata": {},
     "output_type": "display_data"
    },
    {
     "data": {
      "application/vnd.jupyter.widget-view+json": {
       "model_id": "",
       "version_major": 2,
       "version_minor": 0
      },
      "text/plain": [
       "FloatProgress(value=0.0, bar_style='info', description='Progress:', layout=Layout(height='25px', width='50%'),…"
      ]
     },
     "metadata": {},
     "output_type": "display_data"
    }
   ],
   "source": [
    "normalized_disaster_df = spark_disasters_df.select(explode(col('DisasterDeclarationsSummaries')).alias('data'))"
   ]
  },
  {
   "cell_type": "code",
   "execution_count": 93,
   "id": "07023839",
   "metadata": {},
   "outputs": [
    {
     "data": {
      "application/vnd.jupyter.widget-view+json": {
       "model_id": "04125824549d46638e7a3fddac05bcad",
       "version_major": 2,
       "version_minor": 0
      },
      "text/plain": [
       "VBox()"
      ]
     },
     "metadata": {},
     "output_type": "display_data"
    },
    {
     "data": {
      "application/vnd.jupyter.widget-view+json": {
       "model_id": "",
       "version_major": 2,
       "version_minor": 0
      },
      "text/plain": [
       "FloatProgress(value=0.0, bar_style='info', description='Progress:', layout=Layout(height='25px', width='50%'),…"
      ]
     },
     "metadata": {},
     "output_type": "display_data"
    },
    {
     "name": "stdout",
     "output_type": "stream",
     "text": [
      "+--------------------+--------------------+--------------+--------------+--------------------+--------------------+---------------+---------+-----+\n",
      "|     declarationDate|    declarationTitle|designatedArea|disasterNumber|                  id|   incidentBeginDate|   incidentType|placeCode|state|\n",
      "+--------------------+--------------------+--------------+--------------+--------------------+--------------------+---------------+---------+-----+\n",
      "|2017-09-05T19:12:...|      HURRICANE IRMA|  Lee (County)|          3385|60c3b85ba0ee349d7...|2017-09-04T21:00:...|      Hurricane|    99071|   FL|\n",
      "|2019-08-30T10:35:...|    HURRICANE DORIAN|  Lee (County)|          3419|60c3b85ca0ee349d7...|2019-08-28T08:00:...|      Hurricane|    99071|   FL|\n",
      "|2020-03-13T16:00:...|            COVID-19|  Lee (County)|          3432|60c3b85da0ee349d7...|2020-01-20T00:00:...|     Biological|    99071|   FL|\n",
      "|2012-07-03T16:00:...|TROPICAL STORM DEBBY|  Lee (County)|          4068|60c3b863a0ee349d7...|2012-06-23T21:29:...|Severe Storm(s)|    99071|   FL|\n",
      "|2017-09-10T14:45:...|      HURRICANE IRMA|  Lee (County)|          4337|60c3b868a0ee349d7...|2017-09-04T09:00:...|      Hurricane|    99071|   FL|\n",
      "|2020-03-25T12:45:...|   COVID-19 PANDEMIC|  Lee (County)|          4486|60c3b86da0ee349d7...|2020-01-20T14:00:...|     Biological|    99071|   FL|\n",
      "|2017-04-22T01:08:...|LEHIGH ACRES (ANN...|  Lee (County)|          5179|60c3b876a0ee349d7...|2017-04-21T01:25:...|           Fire|    99071|   FL|\n",
      "|2021-07-04T21:25:...| TROPICAL STORM ELSA|  Lee (County)|          3561|60e7040b5d037ccb7...|2021-07-04T00:01:...|Severe Storm(s)|    99071|   FL|\n",
      "+--------------------+--------------------+--------------+--------------+--------------------+--------------------+---------------+---------+-----+"
     ]
    }
   ],
   "source": [
    "cleaned_disasters_df = normalized_disaster_df.select(\"data.*\")\n",
    "cleaned_disasters_df.show()"
   ]
  },
  {
   "cell_type": "markdown",
   "id": "b5c2be9d",
   "metadata": {},
   "source": [
    "# Convert spark df to pandas \n",
    "### (Used after changes made to 'cleaned_disasters_df'. Only way to display data nicely.)"
   ]
  },
  {
   "cell_type": "code",
   "execution_count": 191,
   "id": "f5d0e89e",
   "metadata": {},
   "outputs": [
    {
     "data": {
      "application/vnd.jupyter.widget-view+json": {
       "model_id": "d99295e1f34b483b9ee4a55f0bd304bb",
       "version_major": 2,
       "version_minor": 0
      },
      "text/plain": [
       "VBox()"
      ]
     },
     "metadata": {},
     "output_type": "display_data"
    },
    {
     "data": {
      "application/vnd.jupyter.widget-view+json": {
       "model_id": "",
       "version_major": 2,
       "version_minor": 0
      },
      "text/plain": [
       "FloatProgress(value=0.0, bar_style='info', description='Progress:', layout=Layout(height='25px', width='50%'),…"
      ]
     },
     "metadata": {},
     "output_type": "display_data"
    },
    {
     "name": "stdout",
     "output_type": "stream",
     "text": [
      "            declarationDate                  declarationTitle designatedArea  \\\n",
      "0  2017-09-05T19:12:00.000Z                    HURRICANE IRMA   Lee (County)   \n",
      "1  2019-08-30T10:35:00.000Z                  HURRICANE DORIAN   Lee (County)   \n",
      "2  2020-03-13T16:00:00.000Z                          COVID-19   Lee (County)   \n",
      "3  2012-07-03T16:00:00.000Z              TROPICAL STORM DEBBY   Lee (County)   \n",
      "4  2017-09-10T14:45:00.000Z                    HURRICANE IRMA   Lee (County)   \n",
      "5  2020-03-25T12:45:00.000Z                 COVID-19 PANDEMIC   Lee (County)   \n",
      "6  2017-04-22T01:08:00.000Z  LEHIGH ACRES (ANNA AVE. N.) FIRE   Lee (County)   \n",
      "7  2021-07-04T21:25:00.000Z               TROPICAL STORM ELSA   Lee (County)   \n",
      "\n",
      "   disasterNumber                        id         incidentBeginDate  \\\n",
      "0            3385  60c3b85ba0ee349d710a65ec  2017-09-04T21:00:00.000Z   \n",
      "1            3419  60c3b85ca0ee349d710a7ee9  2019-08-28T08:00:00.000Z   \n",
      "2            3432  60c3b85da0ee349d710a89fa  2020-01-20T00:00:00.000Z   \n",
      "3            4068  60c3b863a0ee349d710aff8b  2012-06-23T21:29:00.000Z   \n",
      "4            4337  60c3b868a0ee349d710b5314  2017-09-04T09:00:00.000Z   \n",
      "5            4486  60c3b86da0ee349d710b8fa8  2020-01-20T14:00:00.000Z   \n",
      "6            5179  60c3b876a0ee349d710bf97a  2017-04-21T01:25:00.000Z   \n",
      "7            3561  60e7040b5d037ccb7d66b13b  2021-07-04T00:01:00.000Z   \n",
      "\n",
      "      incidentType placeCode state countyName declarationYear declarationMonth  \n",
      "0        Hurricane     99071    FL       Lee             2017               09  \n",
      "1        Hurricane     99071    FL       Lee             2019               08  \n",
      "2       Biological     99071    FL       Lee             2020               03  \n",
      "3  Severe Storm(s)     99071    FL       Lee             2012               07  \n",
      "4        Hurricane     99071    FL       Lee             2017               09  \n",
      "5       Biological     99071    FL       Lee             2020               03  \n",
      "6             Fire     99071    FL       Lee             2017               04  \n",
      "7  Severe Storm(s)     99071    FL       Lee             2021               07"
     ]
    }
   ],
   "source": [
    "pandas_disasters_df = cleaned_disasters_df.toPandas()\n",
    "pd.set_option('display.max_columns', None)\n",
    "pandas_disasters_df.head(40)"
   ]
  },
  {
   "cell_type": "markdown",
   "id": "dbe201e4",
   "metadata": {},
   "source": [
    "# Create declaration year and month column from declarationDate"
   ]
  },
  {
   "cell_type": "code",
   "execution_count": 180,
   "id": "063a7b0d",
   "metadata": {},
   "outputs": [
    {
     "data": {
      "application/vnd.jupyter.widget-view+json": {
       "model_id": "a99bfb03c5604b2091327df70bf26b82",
       "version_major": 2,
       "version_minor": 0
      },
      "text/plain": [
       "VBox()"
      ]
     },
     "metadata": {},
     "output_type": "display_data"
    },
    {
     "data": {
      "application/vnd.jupyter.widget-view+json": {
       "model_id": "",
       "version_major": 2,
       "version_minor": 0
      },
      "text/plain": [
       "FloatProgress(value=0.0, bar_style='info', description='Progress:', layout=Layout(height='25px', width='50%'),…"
      ]
     },
     "metadata": {},
     "output_type": "display_data"
    }
   ],
   "source": [
    "cleaned_disasters_df = cleaned_disasters_df.withColumn(\"declarationYear\", split(F.col(\"declarationDate\"), \"-\").getItem(0)) \\\n",
    "                    .withColumn(\"declarationMonth\", split(F.col(\"declarationDate\"), \"-\").getItem(1))\n",
    "                                "
   ]
  },
  {
   "cell_type": "markdown",
   "id": "24eaf179",
   "metadata": {},
   "source": [
    "# Create incident year and month from column incidentBeginDate"
   ]
  },
  {
   "cell_type": "code",
   "execution_count": 86,
   "id": "2d81d305",
   "metadata": {},
   "outputs": [
    {
     "data": {
      "application/vnd.jupyter.widget-view+json": {
       "model_id": "a0c60422245e48e08fce9b33fb81d8ba",
       "version_major": 2,
       "version_minor": 0
      },
      "text/plain": [
       "VBox()"
      ]
     },
     "metadata": {},
     "output_type": "display_data"
    },
    {
     "data": {
      "application/vnd.jupyter.widget-view+json": {
       "model_id": "",
       "version_major": 2,
       "version_minor": 0
      },
      "text/plain": [
       "FloatProgress(value=0.0, bar_style='info', description='Progress:', layout=Layout(height='25px', width='50%'),…"
      ]
     },
     "metadata": {},
     "output_type": "display_data"
    }
   ],
   "source": [
    "cleaned_disasters_df = cleaned_disasters_df.withColumn(\"yearIncidentBegan\", split(F.col(\"incidentBeginDate\"), \"-\").getItem(0)) \\\n",
    "                    .withColumn(\"monthIncidentBegan\", split(F.col(\"incidentBeginDate\"), \"-\").getItem(1))\n",
    "                                "
   ]
  },
  {
   "cell_type": "markdown",
   "id": "b89b4aca",
   "metadata": {},
   "source": [
    "# Use regexp to replace '(county)' with \"\" into a new column"
   ]
  },
  {
   "cell_type": "code",
   "execution_count": 190,
   "id": "e2b9c9ff",
   "metadata": {},
   "outputs": [
    {
     "data": {
      "application/vnd.jupyter.widget-view+json": {
       "model_id": "0024036c82de4990a493888f82312bf0",
       "version_major": 2,
       "version_minor": 0
      },
      "text/plain": [
       "VBox()"
      ]
     },
     "metadata": {},
     "output_type": "display_data"
    },
    {
     "data": {
      "application/vnd.jupyter.widget-view+json": {
       "model_id": "",
       "version_major": 2,
       "version_minor": 0
      },
      "text/plain": [
       "FloatProgress(value=0.0, bar_style='info', description='Progress:', layout=Layout(height='25px', width='50%'),…"
      ]
     },
     "metadata": {},
     "output_type": "display_data"
    }
   ],
   "source": [
    "cleaned_disasters_df = cleaned_disasters_df.withColumn(\"countyName\", regexp_replace('designatedArea', \"\\\\(.+?\\\\)\", \"\"))\n",
    "\n"
   ]
  },
  {
   "cell_type": "markdown",
   "id": "90c6e70d",
   "metadata": {},
   "source": [
    "# Create countyState column (concatinate)"
   ]
  },
  {
   "cell_type": "code",
   "execution_count": 212,
   "id": "e20a6bf6",
   "metadata": {},
   "outputs": [
    {
     "data": {
      "application/vnd.jupyter.widget-view+json": {
       "model_id": "0a5688f7d0694c57bf20be2ac9ad46a2",
       "version_major": 2,
       "version_minor": 0
      },
      "text/plain": [
       "VBox()"
      ]
     },
     "metadata": {},
     "output_type": "display_data"
    },
    {
     "data": {
      "application/vnd.jupyter.widget-view+json": {
       "model_id": "",
       "version_major": 2,
       "version_minor": 0
      },
      "text/plain": [
       "FloatProgress(value=0.0, bar_style='info', description='Progress:', layout=Layout(height='25px', width='50%'),…"
      ]
     },
     "metadata": {},
     "output_type": "display_data"
    },
    {
     "name": "stdout",
     "output_type": "stream",
     "text": [
      "+-------------------+\n",
      "|        countyState|\n",
      "+-------------------+\n",
      "|Lee County, Florida|\n",
      "|Lee County, Florida|\n",
      "|Lee County, Florida|\n",
      "|Lee County, Florida|\n",
      "|Lee County, Florida|\n",
      "|Lee County, Florida|\n",
      "|Lee County, Florida|\n",
      "|Lee County, Florida|\n",
      "+-------------------+"
     ]
    }
   ],
   "source": [
    "cleaned_disasters_df.select(concat(col(\"countyName\"),lit(\"County\"),lit(\", \"),lit(state)).alias(\"countyState\")).show()"
   ]
  },
  {
   "cell_type": "markdown",
   "id": "8882958e",
   "metadata": {},
   "source": [
    "# Groupby\n",
    "### Incident type (count)"
   ]
  },
  {
   "cell_type": "code",
   "execution_count": 88,
   "id": "c45be9d2",
   "metadata": {},
   "outputs": [
    {
     "data": {
      "application/vnd.jupyter.widget-view+json": {
       "model_id": "16431676074c4e60b9e1e8264a9f1596",
       "version_major": 2,
       "version_minor": 0
      },
      "text/plain": [
       "VBox()"
      ]
     },
     "metadata": {},
     "output_type": "display_data"
    },
    {
     "data": {
      "application/vnd.jupyter.widget-view+json": {
       "model_id": "",
       "version_major": 2,
       "version_minor": 0
      },
      "text/plain": [
       "FloatProgress(value=0.0, bar_style='info', description='Progress:', layout=Layout(height='25px', width='50%'),…"
      ]
     },
     "metadata": {},
     "output_type": "display_data"
    },
    {
     "name": "stdout",
     "output_type": "stream",
     "text": [
      "+---------------+-----+\n",
      "|   incidentType|count|\n",
      "+---------------+-----+\n",
      "|           Fire|    1|\n",
      "|     Biological|    2|\n",
      "|Severe Storm(s)|    2|\n",
      "|      Hurricane|    3|\n",
      "+---------------+-----+"
     ]
    }
   ],
   "source": [
    "cleaned_disasters_df.groupby(\"incidentType\").count().sort('count').show()"
   ]
  },
  {
   "cell_type": "markdown",
   "id": "478bf104",
   "metadata": {},
   "source": [
    "### Incident type by declaration year (count)"
   ]
  },
  {
   "cell_type": "code",
   "execution_count": 84,
   "id": "fcd04c47",
   "metadata": {},
   "outputs": [
    {
     "data": {
      "application/vnd.jupyter.widget-view+json": {
       "model_id": "9231ebe61df04426886a9b7b41fb584a",
       "version_major": 2,
       "version_minor": 0
      },
      "text/plain": [
       "VBox()"
      ]
     },
     "metadata": {},
     "output_type": "display_data"
    },
    {
     "data": {
      "application/vnd.jupyter.widget-view+json": {
       "model_id": "",
       "version_major": 2,
       "version_minor": 0
      },
      "text/plain": [
       "FloatProgress(value=0.0, bar_style='info', description='Progress:', layout=Layout(height='25px', width='50%'),…"
      ]
     },
     "metadata": {},
     "output_type": "display_data"
    },
    {
     "name": "stdout",
     "output_type": "stream",
     "text": [
      "+---------------+---------------+-----+\n",
      "|   incidentType|declarationYear|count|\n",
      "+---------------+---------------+-----+\n",
      "|Severe Storm(s)|           2012|    1|\n",
      "|      Hurricane|           2017|    2|\n",
      "|           Fire|           2017|    1|\n",
      "|      Hurricane|           2019|    1|\n",
      "|     Biological|           2020|    2|\n",
      "|Severe Storm(s)|           2021|    1|\n",
      "+---------------+---------------+-----+"
     ]
    }
   ],
   "source": [
    "cleaned_disasters_df.groupby(\"incidentType\", \"declarationYear\").count().show()"
   ]
  },
  {
   "cell_type": "markdown",
   "id": "5b3b65bb",
   "metadata": {},
   "source": [
    "### Incident type by declaration month (count)"
   ]
  },
  {
   "cell_type": "code",
   "execution_count": 85,
   "id": "24d28a57",
   "metadata": {},
   "outputs": [
    {
     "data": {
      "application/vnd.jupyter.widget-view+json": {
       "model_id": "c508f54ff2e04a68b9f5af316844a6b7",
       "version_major": 2,
       "version_minor": 0
      },
      "text/plain": [
       "VBox()"
      ]
     },
     "metadata": {},
     "output_type": "display_data"
    },
    {
     "data": {
      "application/vnd.jupyter.widget-view+json": {
       "model_id": "",
       "version_major": 2,
       "version_minor": 0
      },
      "text/plain": [
       "FloatProgress(value=0.0, bar_style='info', description='Progress:', layout=Layout(height='25px', width='50%'),…"
      ]
     },
     "metadata": {},
     "output_type": "display_data"
    },
    {
     "name": "stdout",
     "output_type": "stream",
     "text": [
      "+---------------+----------------+-----+\n",
      "|   incidentType|declarationMonth|count|\n",
      "+---------------+----------------+-----+\n",
      "|     Biological|              03|    2|\n",
      "|Severe Storm(s)|              07|    2|\n",
      "|      Hurricane|              08|    1|\n",
      "|           Fire|              04|    1|\n",
      "|      Hurricane|              09|    2|\n",
      "+---------------+----------------+-----+"
     ]
    }
   ],
   "source": [
    "cleaned_disasters_df.groupby(\"incidentType\", \"declarationMonth\").count().show()"
   ]
  },
  {
   "cell_type": "markdown",
   "id": "e10ada5e",
   "metadata": {},
   "source": [
    "# Write Spark DF to S3 bucket as a CSV"
   ]
  },
  {
   "cell_type": "code",
   "execution_count": 196,
   "id": "e2d4a4b5",
   "metadata": {},
   "outputs": [
    {
     "data": {
      "application/vnd.jupyter.widget-view+json": {
       "model_id": "573d5f84217446e3a16bb4629fa19543",
       "version_major": 2,
       "version_minor": 0
      },
      "text/plain": [
       "VBox()"
      ]
     },
     "metadata": {},
     "output_type": "display_data"
    },
    {
     "data": {
      "application/vnd.jupyter.widget-view+json": {
       "model_id": "",
       "version_major": 2,
       "version_minor": 0
      },
      "text/plain": [
       "FloatProgress(value=0.0, bar_style='info', description='Progress:', layout=Layout(height='25px', width='50%'),…"
      ]
     },
     "metadata": {},
     "output_type": "display_data"
    }
   ],
   "source": [
    "# coalesce(1) writes csv to one file in S3\n",
    "cleaned_disasters_df.coalesce(1) \\\n",
    "    .write.format('csv') \\\n",
    "    .mode('overwrite') \\\n",
    "    .option(\"header\", \"true\") \\\n",
    "    .save(f's3://real-estate-filtered-data/county-disasters/{county}.csv/')"
   ]
  },
  {
   "cell_type": "code",
   "execution_count": null,
   "id": "8afe1c9a",
   "metadata": {},
   "outputs": [],
   "source": []
  }
 ],
 "metadata": {
  "kernelspec": {
   "display_name": "PySpark",
   "language": "",
   "name": "pysparkkernel"
  },
  "language_info": {
   "codemirror_mode": {
    "name": "python",
    "version": 3
   },
   "file_extension": ".py",
   "mimetype": "text/x-python",
   "name": "pyspark",
   "pygments_lexer": "python3"
  }
 },
 "nbformat": 4,
 "nbformat_minor": 5
}
