{
 "cells": [
  {
   "cell_type": "markdown",
   "id": "f0547ea9",
   "metadata": {},
   "source": [
    "# Packages that need to be installed initially\n"
   ]
  },
  {
   "cell_type": "code",
   "execution_count": null,
   "id": "ad3c6a59",
   "metadata": {},
   "outputs": [],
   "source": [
    "sc.install_pypi_package(\"pandas==0.25.1\")\n",
    "# sc.list_packages()"
   ]
  },
  {
   "cell_type": "code",
   "execution_count": 6,
   "id": "513cadcc",
   "metadata": {},
   "outputs": [
    {
     "data": {
      "application/vnd.jupyter.widget-view+json": {
       "model_id": "bf2f784f689f445a80d14d3dad18ff5f",
       "version_major": 2,
       "version_minor": 0
      },
      "text/plain": [
       "VBox()"
      ]
     },
     "metadata": {},
     "output_type": "display_data"
    },
    {
     "data": {
      "application/vnd.jupyter.widget-view+json": {
       "model_id": "",
       "version_major": 2,
       "version_minor": 0
      },
      "text/plain": [
       "FloatProgress(value=0.0, bar_style='info', description='Progress:', layout=Layout(height='25px', width='50%'),…"
      ]
     },
     "metadata": {},
     "output_type": "display_data"
    }
   ],
   "source": [
    "import pyspark\n",
    "import pandas as pd\n",
    "from pyspark.sql.functions import split, round\n",
    "from pyspark.sql import functions as F"
   ]
  },
  {
   "cell_type": "code",
   "execution_count": 7,
   "id": "b7cff382",
   "metadata": {},
   "outputs": [
    {
     "data": {
      "application/vnd.jupyter.widget-view+json": {
       "model_id": "46a84e23b4734db08ac35f3fdcfe13fc",
       "version_major": 2,
       "version_minor": 0
      },
      "text/plain": [
       "VBox()"
      ]
     },
     "metadata": {},
     "output_type": "display_data"
    },
    {
     "data": {
      "application/vnd.jupyter.widget-view+json": {
       "model_id": "",
       "version_major": 2,
       "version_minor": 0
      },
      "text/plain": [
       "FloatProgress(value=0.0, bar_style='info', description='Progress:', layout=Layout(height='25px', width='50%'),…"
      ]
     },
     "metadata": {},
     "output_type": "display_data"
    },
    {
     "name": "stdout",
     "output_type": "stream",
     "text": [
      "<pyspark.sql.session.SparkSession object at 0x7ffa171408d0>"
     ]
    }
   ],
   "source": [
    "spark"
   ]
  },
  {
   "cell_type": "markdown",
   "id": "591acce1",
   "metadata": {},
   "source": [
    "# Property Search City"
   ]
  },
  {
   "cell_type": "code",
   "execution_count": 9,
   "id": "1654a5cd",
   "metadata": {},
   "outputs": [
    {
     "data": {
      "application/vnd.jupyter.widget-view+json": {
       "model_id": "dd4980d4b7c744ed968b291326458099",
       "version_major": 2,
       "version_minor": 0
      },
      "text/plain": [
       "VBox()"
      ]
     },
     "metadata": {},
     "output_type": "display_data"
    },
    {
     "data": {
      "application/vnd.jupyter.widget-view+json": {
       "model_id": "",
       "version_major": 2,
       "version_minor": 0
      },
      "text/plain": [
       "FloatProgress(value=0.0, bar_style='info', description='Progress:', layout=Layout(height='25px', width='50%'),…"
      ]
     },
     "metadata": {},
     "output_type": "display_data"
    }
   ],
   "source": [
    "city = \"lehigh acres\""
   ]
  },
  {
   "cell_type": "markdown",
   "id": "4714e6a0",
   "metadata": {},
   "source": [
    "# Read property data from S3 Bucket (infer schema and set headers = true)\n",
    "### Print dataframe schema"
   ]
  },
  {
   "cell_type": "code",
   "execution_count": 10,
   "id": "b5ab1180",
   "metadata": {},
   "outputs": [
    {
     "data": {
      "application/vnd.jupyter.widget-view+json": {
       "model_id": "1ec9909d4b8246ccae472dc169b13667",
       "version_major": 2,
       "version_minor": 0
      },
      "text/plain": [
       "VBox()"
      ]
     },
     "metadata": {},
     "output_type": "display_data"
    },
    {
     "data": {
      "application/vnd.jupyter.widget-view+json": {
       "model_id": "",
       "version_major": 2,
       "version_minor": 0
      },
      "text/plain": [
       "FloatProgress(value=0.0, bar_style='info', description='Progress:', layout=Layout(height='25px', width='50%'),…"
      ]
     },
     "metadata": {},
     "output_type": "display_data"
    },
    {
     "name": "stdout",
     "output_type": "stream",
     "text": [
      "root\n",
      " |-- dateSold: string (nullable = true)\n",
      " |-- propertyType: string (nullable = true)\n",
      " |-- lotAreaValue: double (nullable = true)\n",
      " |-- address: string (nullable = true)\n",
      " |-- daysOnZillow: integer (nullable = true)\n",
      " |-- price: integer (nullable = true)\n",
      " |-- listingDateTime: string (nullable = true)\n",
      " |-- longitude: double (nullable = true)\n",
      " |-- latitude: double (nullable = true)\n",
      " |-- contingentListingType: string (nullable = true)\n",
      " |-- listingStatus: string (nullable = true)\n",
      " |-- zpid: integer (nullable = true)\n",
      " |-- imgSrc: string (nullable = true)\n",
      " |-- livingArea: double (nullable = true)\n",
      " |-- bathrooms: integer (nullable = true)\n",
      " |-- lotAreaUnit: string (nullable = true)\n",
      " |-- country: string (nullable = true)\n",
      " |-- currency: string (nullable = true)\n",
      " |-- bedrooms: integer (nullable = true)\n",
      " |-- hasImage: boolean (nullable = true)\n",
      " |-- listingSubType.is_FSBA: boolean (nullable = true)\n",
      " |-- listingSubType.is_newHome: boolean (nullable = true)\n",
      " |-- listingSubType.is_openHouse: boolean (nullable = true)\n",
      " |-- listingSubType.is_forAuction: boolean (nullable = true)"
     ]
    }
   ],
   "source": [
    "spark_properties_df = spark.read.csv(f\"s3://real-estate-extracted-data/property_search/properties-for-sale-{city}-fl.csv\",\n",
    "                               inferSchema=True, header=True)\n",
    "spark_properties_df.printSchema()\n"
   ]
  },
  {
   "cell_type": "markdown",
   "id": "2f306dfb",
   "metadata": {},
   "source": [
    "# Replacing '.' with '_' in column headers.\n",
    "### Doing this allows me to select 'listingSubType_' columns easier and cleaner"
   ]
  },
  {
   "cell_type": "code",
   "execution_count": 183,
   "id": "551cf1f6",
   "metadata": {},
   "outputs": [
    {
     "data": {
      "application/vnd.jupyter.widget-view+json": {
       "model_id": "15fd406f164047c28d48d5d692830527",
       "version_major": 2,
       "version_minor": 0
      },
      "text/plain": [
       "VBox()"
      ]
     },
     "metadata": {},
     "output_type": "display_data"
    },
    {
     "data": {
      "application/vnd.jupyter.widget-view+json": {
       "model_id": "",
       "version_major": 2,
       "version_minor": 0
      },
      "text/plain": [
       "FloatProgress(value=0.0, bar_style='info', description='Progress:', layout=Layout(height='25px', width='50%'),…"
      ]
     },
     "metadata": {},
     "output_type": "display_data"
    },
    {
     "name": "stdout",
     "output_type": "stream",
     "text": [
      "root\n",
      " |-- dateSold: string (nullable = true)\n",
      " |-- propertyType: string (nullable = true)\n",
      " |-- lotAreaValue: double (nullable = true)\n",
      " |-- address: string (nullable = true)\n",
      " |-- daysOnZillow: integer (nullable = true)\n",
      " |-- price: integer (nullable = true)\n",
      " |-- listingDateTime: string (nullable = true)\n",
      " |-- longitude: double (nullable = true)\n",
      " |-- latitude: double (nullable = true)\n",
      " |-- contingentListingType: string (nullable = true)\n",
      " |-- listingStatus: string (nullable = true)\n",
      " |-- zpid: integer (nullable = true)\n",
      " |-- imgSrc: string (nullable = true)\n",
      " |-- livingArea: double (nullable = true)\n",
      " |-- bathrooms: integer (nullable = true)\n",
      " |-- lotAreaUnit: string (nullable = true)\n",
      " |-- country: string (nullable = true)\n",
      " |-- currency: string (nullable = true)\n",
      " |-- bedrooms: integer (nullable = true)\n",
      " |-- hasImage: boolean (nullable = true)\n",
      " |-- listingSubType_is_FSBA: boolean (nullable = true)\n",
      " |-- listingSubType_is_newHome: boolean (nullable = true)\n",
      " |-- listingSubType_is_openHouse: boolean (nullable = true)\n",
      " |-- listingSubType_is_forAuction: boolean (nullable = true)"
     ]
    }
   ],
   "source": [
    "clean_properties_df = spark_properties_df.toDF(*(c.replace('.', '_') for c in spark_properties_df.columns))\n",
    "\n",
    "clean_properties_df.printSchema()"
   ]
  },
  {
   "cell_type": "markdown",
   "id": "e3a4275e",
   "metadata": {},
   "source": [
    "# Convert spark df to pandas \n",
    "### (Used after changes made to 'clean_properties_df'. Only way to display data nicely.)"
   ]
  },
  {
   "cell_type": "code",
   "execution_count": 178,
   "id": "7054c508",
   "metadata": {},
   "outputs": [
    {
     "data": {
      "application/vnd.jupyter.widget-view+json": {
       "model_id": "da1480ec4cb14e26a616737b90817183",
       "version_major": 2,
       "version_minor": 0
      },
      "text/plain": [
       "VBox()"
      ]
     },
     "metadata": {},
     "output_type": "display_data"
    },
    {
     "data": {
      "application/vnd.jupyter.widget-view+json": {
       "model_id": "",
       "version_major": 2,
       "version_minor": 0
      },
      "text/plain": [
       "FloatProgress(value=0.0, bar_style='info', description='Progress:', layout=Layout(height='25px', width='50%'),…"
      ]
     },
     "metadata": {},
     "output_type": "display_data"
    }
   ],
   "source": [
    "pandas_df = clean_properties_df.toPandas()\n",
    "pd.set_option('display.max_columns', None)\n"
   ]
  },
  {
   "cell_type": "code",
   "execution_count": 179,
   "id": "1197e8dc",
   "metadata": {},
   "outputs": [
    {
     "data": {
      "application/vnd.jupyter.widget-view+json": {
       "model_id": "3dabade123a040e5b2ec2e83658f2141",
       "version_major": 2,
       "version_minor": 0
      },
      "text/plain": [
       "VBox()"
      ]
     },
     "metadata": {},
     "output_type": "display_data"
    },
    {
     "data": {
      "application/vnd.jupyter.widget-view+json": {
       "model_id": "",
       "version_major": 2,
       "version_minor": 0
      },
      "text/plain": [
       "FloatProgress(value=0.0, bar_style='info', description='Progress:', layout=Layout(height='25px', width='50%'),…"
      ]
     },
     "metadata": {},
     "output_type": "display_data"
    },
    {
     "name": "stdout",
     "output_type": "stream",
     "text": [
      "     propertyType  lotAreaValue  \\\n",
      "0   SINGLE_FAMILY         0.250   \n",
      "1   SINGLE_FAMILY         0.252   \n",
      "2   SINGLE_FAMILY         0.292   \n",
      "3   SINGLE_FAMILY         0.359   \n",
      "4   SINGLE_FAMILY      9426.384   \n",
      "5   SINGLE_FAMILY         0.250   \n",
      "6   SINGLE_FAMILY         0.507   \n",
      "7   SINGLE_FAMILY         0.284   \n",
      "8   SINGLE_FAMILY         0.287   \n",
      "9   SINGLE_FAMILY         0.000   \n",
      "10  SINGLE_FAMILY         0.250   \n",
      "11   MULTI_FAMILY      4791.600   \n",
      "12  SINGLE_FAMILY      9888.120   \n",
      "13  SINGLE_FAMILY      8929.800   \n",
      "14  SINGLE_FAMILY     10236.600   \n",
      "15  SINGLE_FAMILY         0.500   \n",
      "16  SINGLE_FAMILY     10672.200   \n",
      "17  SINGLE_FAMILY     10802.880   \n",
      "18  SINGLE_FAMILY         0.250   \n",
      "19  SINGLE_FAMILY      8363.520   \n",
      "20  SINGLE_FAMILY     10628.640   \n",
      "21   MULTI_FAMILY      1698.840   \n",
      "22  SINGLE_FAMILY      8581.320   \n",
      "23  SINGLE_FAMILY      8480.000   \n",
      "24  SINGLE_FAMILY         0.250   \n",
      "25  SINGLE_FAMILY      6795.360   \n",
      "26   MULTI_FAMILY      6229.080   \n",
      "27  SINGLE_FAMILY         0.250   \n",
      "28  SINGLE_FAMILY      8712.000   \n",
      "29  SINGLE_FAMILY         0.500   \n",
      "30  SINGLE_FAMILY         0.000   \n",
      "31  SINGLE_FAMILY         0.270   \n",
      "32  SINGLE_FAMILY      9147.600   \n",
      "33  SINGLE_FAMILY      9757.440   \n",
      "\n",
      "                                            address  daysOnZillow   price  \\\n",
      "0           4019 12th St SW, Lehigh Acres, FL 33976            -1  289000   \n",
      "1            2912 25th St W, Lehigh Acres, FL 33971            -1  297000   \n",
      "2             201 E Penn Rd, Lehigh Acres, FL 33936            -1  269500   \n",
      "3            11 Illinois Rd, Lehigh Acres, FL 33936            -1  250000   \n",
      "4      705 Evening Shade Ln, Lehigh Acres, FL 33974            -1  289900   \n",
      "5             1401 E 6th St, Lehigh Acres, FL 33972            -1  259900   \n",
      "6          302 McArthur Ave, Lehigh Acres, FL 33936            -1  255000   \n",
      "7         1003 E Jasmine Rd, Lehigh Acres, FL 33936            -1  239999   \n",
      "8           2432 Paul Ave S, Lehigh Acres, FL 33973            -1  275000   \n",
      "9           38 Tangerine Ct, Lehigh Acres, FL 33936            -1  119999   \n",
      "10           3317 6th St SW, Lehigh Acres, FL 33976            -1  210000   \n",
      "11          2225 Carnaby Ct, Lehigh Acres, FL 33973            -1  299900   \n",
      "12            114 Alcala Ct, Lehigh Acres, FL 33936            -1  280000   \n",
      "13            209 Purdue St, Lehigh Acres, FL 33936            -1  224900   \n",
      "14          4102 18th St SW, Lehigh Acres, FL 33976            -1  220000   \n",
      "15              504 5th Ave, Lehigh Acres, FL 33972            -1  279900   \n",
      "16          4604 Beth Ave S, Lehigh Acres, FL 33976            -1  219000   \n",
      "17           2715 4th St SW, Lehigh Acres, FL 33976            -1  245000   \n",
      "18            4707 4th St W, Lehigh Acres, FL 33971            -1  299900   \n",
      "19              4 Palm Blvd, Lehigh Acres, FL 33936            -1  225900   \n",
      "20            5212 2nd St W, Lehigh Acres, FL 33971            -1  249000   \n",
      "21  550 Bethany Village Cir, Lehigh Acres, FL 33936            -1  255900   \n",
      "22         506 E Jasmine Rd, Lehigh Acres, FL 33936            -1  199900   \n",
      "23           3418 7th St SW, Lehigh Acres, FL 33976            -1  270000   \n",
      "24          3508 36th St SW, Lehigh Acres, FL 33976            -1  204900   \n",
      "25         820 Alabama Rd S, Lehigh Acres, FL 33974            -1  295900   \n",
      "26           1141 Joel Blvd, Lehigh Acres, FL 33936            -1  184000   \n",
      "27            4715 4th St W, Lehigh Acres, FL 33971            -1  279900   \n",
      "28          14 E Jasmine Rd, Lehigh Acres, FL 33936            -1  249000   \n",
      "29           104 Abbott Ave, Lehigh Acres, FL 33936            -1  210000   \n",
      "30       754 Center Lake St, Lehigh Acres, FL 33974            -1  299000   \n",
      "31   1631 Country Club Pkwy, Lehigh Acres, FL 33936            -1  289900   \n",
      "32        306 Schoolside Dr, Lehigh Acres, FL 33936            -1  235000   \n",
      "33         109 Alabama Rd S, Lehigh Acres, FL 33936            -1  187000   \n",
      "\n",
      "   listingDateTime  longitude   latitude contingentListingType listingStatus  \\\n",
      "0             None -81.704890  26.601727                  None      FOR_SALE   \n",
      "1             None -81.675240  26.636780                  None      FOR_SALE   \n",
      "2             None -81.627820  26.605486                  None      FOR_SALE   \n",
      "3             None -81.635086  26.599838                  None      FOR_SALE   \n",
      "4             None -81.612656  26.598816                  None      FOR_SALE   \n",
      "5             None -81.610550  26.621721                  None      FOR_SALE   \n",
      "6             None -81.590965  26.610980                  None      FOR_SALE   \n",
      "7             None -81.615680  26.606360                  None      FOR_SALE   \n",
      "8             None -81.737220  26.598148                  None      FOR_SALE   \n",
      "9             None -81.644260  26.589598                  None      FOR_SALE   \n",
      "10            None -81.686200  26.607418                  None      FOR_SALE   \n",
      "11            None -81.727340  26.603550                  None      FOR_SALE   \n",
      "12            None -81.644640  26.594940                  None      FOR_SALE   \n",
      "13            None -81.631460  26.611084                  None      FOR_SALE   \n",
      "14            None -81.705154  26.596085                  None      FOR_SALE   \n",
      "15            None -81.623170  26.618590                  None      FOR_SALE   \n",
      "16            None -81.663580  26.570896                  None      FOR_SALE   \n",
      "17            None -81.668400  26.609213                  None      FOR_SALE   \n",
      "18            None -81.723076  26.615574                  None      FOR_SALE   \n",
      "19            None -81.645190  26.587673                  None      FOR_SALE   \n",
      "20            None -81.735400  26.614363                  None      FOR_SALE   \n",
      "21            None -81.625916  26.588167                  None      FOR_SALE   \n",
      "22            None -81.622600  26.605864                  None      FOR_SALE   \n",
      "23            None -81.689070  26.607044                  None      FOR_SALE   \n",
      "24            None -81.691070  26.580477                  None      FOR_SALE   \n",
      "25            None -81.658660  26.575384                  None      FOR_SALE   \n",
      "26            None -81.598540  26.642656                  None      FOR_SALE   \n",
      "27            None -81.724050  26.615562                  None      FOR_SALE   \n",
      "28            None -81.629300  26.607150                  None      FOR_SALE   \n",
      "29            None -81.568000  26.604374                  None      FOR_SALE   \n",
      "30            None -81.610985  26.595476                  None      FOR_SALE   \n",
      "31            None -81.601890  26.603865                  None      FOR_SALE   \n",
      "32            None -81.628970  26.611012                  None      FOR_SALE   \n",
      "33            None -81.646380  26.595743                  None      FOR_SALE   \n",
      "\n",
      "          zpid                                             imgSrc  livingArea  \\\n",
      "0     89565733  https://photos.zillowstatic.com/fp/3e8ede80ff9...      1427.0   \n",
      "1     81881822  https://photos.zillowstatic.com/fp/45a7934b339...      1521.0   \n",
      "2     45541591  https://photos.zillowstatic.com/fp/c46e1fa8eb2...      1216.0   \n",
      "3     45537538  https://photos.zillowstatic.com/fp/7c11aaf0948...      1752.0   \n",
      "4     89568553  https://photos.zillowstatic.com/fp/d377295d6d5...      1365.0   \n",
      "5     45507047  https://photos.zillowstatic.com/fp/e915d64e8af...      1424.0   \n",
      "6     45551844  https://photos.zillowstatic.com/fp/bc8debe9a6b...      1612.0   \n",
      "7     45541188  https://photos.zillowstatic.com/fp/fd8e8967008...      1314.0   \n",
      "8     45396910  https://photos.zillowstatic.com/fp/ad655a35a91...      1283.0   \n",
      "9   2136921924  https://photos.zillowstatic.com/fp/ca811f517b7...       812.0   \n",
      "10    45551379  https://photos.zillowstatic.com/fp/424d5d7a16c...       984.0   \n",
      "11    45537166  https://photos.zillowstatic.com/fp/ac33c233884...      1573.0   \n",
      "12    45397183  https://photos.zillowstatic.com/fp/2841f6854cc...      1700.0   \n",
      "13    45538162  https://photos.zillowstatic.com/fp/25860c04592...       851.0   \n",
      "14    45384894  https://photos.zillowstatic.com/fp/ff4d1ac3827...      1152.0   \n",
      "15    45514153  https://photos.zillowstatic.com/fp/2b198616177...      1332.0   \n",
      "16    81879467  https://photos.zillowstatic.com/fp/1c63633c9ed...       984.0   \n",
      "17    45558799  https://photos.zillowstatic.com/fp/13c76074303...      1528.0   \n",
      "18    45513610  https://photos.zillowstatic.com/fp/bb8bb17c6c4...      1545.0   \n",
      "19    45397225  https://photos.zillowstatic.com/fp/eb3271f16cc...      1034.0   \n",
      "20    45519189  https://photos.zillowstatic.com/fp/3ac196dd53d...      1026.0   \n",
      "21    45392788  https://photos.zillowstatic.com/fp/aade70693e9...      1338.0   \n",
      "22    45541010  https://photos.zillowstatic.com/fp/691794028c8...      1056.0   \n",
      "23    68096463  https://photos.zillowstatic.com/fp/b7677426c59...      1114.0   \n",
      "24    68089394  https://photos.zillowstatic.com/fp/e5e4bdfa608...      1108.0   \n",
      "25    89861040  https://photos.zillowstatic.com/fp/c6037c4c6a0...      1664.0   \n",
      "26    45483333  https://photos.zillowstatic.com/fp/6c13c80401a...       997.0   \n",
      "27    45513608  https://photos.zillowstatic.com/fp/ea2b114dc61...      1445.0   \n",
      "28    45541632  https://photos.zillowstatic.com/fp/da5a1b5b1bb...      1224.0   \n",
      "29    45558870  https://photos.zillowstatic.com/fp/385f4c12d73...       736.0   \n",
      "30   103239829  https://photos.zillowstatic.com/fp/adbea3f51dc...         NaN   \n",
      "31    45546337  https://photos.zillowstatic.com/fp/3da37e2584e...      1465.0   \n",
      "32    45541790  https://photos.zillowstatic.com/fp/eaf4e7eb078...       948.0   \n",
      "33    45401789  https://photos.zillowstatic.com/fp/c546d79710b...       920.0   \n",
      "\n",
      "    bathrooms lotAreaUnit country currency  bedrooms  hasImage  \\\n",
      "0           2       acres     USA      USD         3      True   \n",
      "1           2       acres     USA      USD         3      True   \n",
      "2           2       acres     USA      USD         3      True   \n",
      "3           2       acres     USA      USD         3      True   \n",
      "4           2        sqft     USA      USD         4      True   \n",
      "5           2       acres     USA      USD         3      True   \n",
      "6           2       acres     USA      USD         3      True   \n",
      "7           2       acres     USA      USD         3      True   \n",
      "8           2       acres     USA      USD         3      True   \n",
      "9           2        sqft     USA      USD         2      True   \n",
      "10          2       acres     USA      USD         3      True   \n",
      "11          2        sqft     USA      USD         3      True   \n",
      "12          2        sqft     USA      USD         4      True   \n",
      "13          2        sqft     USA      USD         2      True   \n",
      "14          2        sqft     USA      USD         3      True   \n",
      "15          2       acres     USA      USD         3      True   \n",
      "16          2        sqft     USA      USD         3      True   \n",
      "17          2        sqft     USA      USD         4      True   \n",
      "18          2       acres     USA      USD         3      True   \n",
      "19          2        sqft     USA      USD         2      True   \n",
      "20          2        sqft     USA      USD         3      True   \n",
      "21          2        sqft     USA      USD         2      True   \n",
      "22          1        sqft     USA      USD         3      True   \n",
      "23          2        sqft     USA      USD         3      True   \n",
      "24          2       acres     USA      USD         2      True   \n",
      "25          3        sqft     USA      USD         3      True   \n",
      "26          2        sqft     USA      USD         2      True   \n",
      "27          2       acres     USA      USD         3      True   \n",
      "28          2        sqft     USA      USD         3      True   \n",
      "29          1       acres     USA      USD         2      True   \n",
      "30          2        sqft     USA      USD         3      True   \n",
      "31          2       acres     USA      USD         2      True   \n",
      "32          2        sqft     USA      USD         2      True   \n",
      "33          1        sqft     USA      USD         2      True   \n",
      "\n",
      "   listingSubType_is_FSBA  listingSubType_is_newHome  \\\n",
      "0                    True                      False   \n",
      "1                    True                      False   \n",
      "2                    True                      False   \n",
      "3                    True                      False   \n",
      "4                    True                      False   \n",
      "5                    True                      False   \n",
      "6                    True                      False   \n",
      "7                    True                      False   \n",
      "8                    True                      False   \n",
      "9                    True                      False   \n",
      "10                   True                      False   \n",
      "11                   True                      False   \n",
      "12                   True                      False   \n",
      "13                   True                      False   \n",
      "14                   True                      False   \n",
      "15                   True                      False   \n",
      "16                   True                      False   \n",
      "17                   True                      False   \n",
      "18                   True                      False   \n",
      "19                   True                      False   \n",
      "20                   True                      False   \n",
      "21                   True                      False   \n",
      "22                   True                      False   \n",
      "23                   True                      False   \n",
      "24                   None                      False   \n",
      "25                   True                      False   \n",
      "26                   True                      False   \n",
      "27                   True                      False   \n",
      "28                   True                      False   \n",
      "29                   True                      False   \n",
      "30                   True                      False   \n",
      "31                   True                      False   \n",
      "32                   True                      False   \n",
      "33                   True                      False   \n",
      "\n",
      "   listingSubType_is_openHouse listingSubType_is_forAuction  \n",
      "0                         None                         None  \n",
      "1                         None                         None  \n",
      "2                         None                         None  \n",
      "3                         None                         None  \n",
      "4                         None                         None  \n",
      "5                         None                         None  \n",
      "6                         None                         None  \n",
      "7                         None                         None  \n",
      "8                         None                         None  \n",
      "9                         None                         None  \n",
      "10                        None                         None  \n",
      "11                        None                         None  \n",
      "12                        None                         None  \n",
      "13                        None                         None  \n",
      "14                        None                         None  \n",
      "15                        None                         None  \n",
      "16                        None                         None  \n",
      "17                        None                         None  \n",
      "18                        None                         None  \n",
      "19                        None                         None  \n",
      "20                        None                         None  \n",
      "21                        None                         None  \n",
      "22                        None                         None  \n",
      "23                        None                         None  \n",
      "24                        None                         True  \n",
      "25                        None                         None  \n",
      "26                        None                         None  \n",
      "27                        None                         None  \n",
      "28                        None                         None  \n",
      "29                        None                         None  \n",
      "30                        None                         None  \n",
      "31                        None                         None  \n",
      "32                        None                         None  \n",
      "33                        None                         None"
     ]
    }
   ],
   "source": [
    "pandas_df.head(40)"
   ]
  },
  {
   "cell_type": "markdown",
   "id": "61bdf26f",
   "metadata": {},
   "source": [
    "# Drop 'dateSold' column"
   ]
  },
  {
   "cell_type": "code",
   "execution_count": 184,
   "id": "a01ae335",
   "metadata": {},
   "outputs": [
    {
     "data": {
      "application/vnd.jupyter.widget-view+json": {
       "model_id": "2af42a1c29254e3c9def89f7a2f5209c",
       "version_major": 2,
       "version_minor": 0
      },
      "text/plain": [
       "VBox()"
      ]
     },
     "metadata": {},
     "output_type": "display_data"
    },
    {
     "data": {
      "application/vnd.jupyter.widget-view+json": {
       "model_id": "",
       "version_major": 2,
       "version_minor": 0
      },
      "text/plain": [
       "FloatProgress(value=0.0, bar_style='info', description='Progress:', layout=Layout(height='25px', width='50%'),…"
      ]
     },
     "metadata": {},
     "output_type": "display_data"
    }
   ],
   "source": [
    "clean_properties_df = clean_properties_df.drop('dateSold')"
   ]
  },
  {
   "cell_type": "markdown",
   "id": "5f41df95",
   "metadata": {},
   "source": [
    "# Filtering properties by     \n",
    "    # bathsMin = 2\n",
    "    # bedsMax = 4"
   ]
  },
  {
   "cell_type": "code",
   "execution_count": 185,
   "id": "23df1675",
   "metadata": {},
   "outputs": [
    {
     "data": {
      "application/vnd.jupyter.widget-view+json": {
       "model_id": "f35755af3e7c4f069b4e2724060bf199",
       "version_major": 2,
       "version_minor": 0
      },
      "text/plain": [
       "VBox()"
      ]
     },
     "metadata": {},
     "output_type": "display_data"
    },
    {
     "data": {
      "application/vnd.jupyter.widget-view+json": {
       "model_id": "",
       "version_major": 2,
       "version_minor": 0
      },
      "text/plain": [
       "FloatProgress(value=0.0, bar_style='info', description='Progress:', layout=Layout(height='25px', width='50%'),…"
      ]
     },
     "metadata": {},
     "output_type": "display_data"
    }
   ],
   "source": [
    "clean_properties_df = clean_properties_df.filter((clean_properties_df[\"bedrooms\"] < 5) &\n",
    "                     (clean_properties_df[\"bathrooms\"] >= 2))"
   ]
  },
  {
   "cell_type": "markdown",
   "id": "b7977727",
   "metadata": {},
   "source": [
    "# Dropping Rows...\n",
    "### where homes have NaN lot area or NaN living area (PLAN homes) "
   ]
  },
  {
   "cell_type": "code",
   "execution_count": 186,
   "id": "c257c0f3",
   "metadata": {},
   "outputs": [
    {
     "data": {
      "application/vnd.jupyter.widget-view+json": {
       "model_id": "03c6f1470e26468ba52d16f309c8493d",
       "version_major": 2,
       "version_minor": 0
      },
      "text/plain": [
       "VBox()"
      ]
     },
     "metadata": {},
     "output_type": "display_data"
    },
    {
     "data": {
      "application/vnd.jupyter.widget-view+json": {
       "model_id": "",
       "version_major": 2,
       "version_minor": 0
      },
      "text/plain": [
       "FloatProgress(value=0.0, bar_style='info', description='Progress:', layout=Layout(height='25px', width='50%'),…"
      ]
     },
     "metadata": {},
     "output_type": "display_data"
    }
   ],
   "source": [
    "clean_properties_df = clean_properties_df.na.drop(how='any', subset=['lotAreaValue', 'livingArea'])\n"
   ]
  },
  {
   "cell_type": "markdown",
   "id": "67b413aa",
   "metadata": {},
   "source": [
    "### where  'newHome' is equal to True (I'm looking for fixer-upper's)"
   ]
  },
  {
   "cell_type": "code",
   "execution_count": 187,
   "id": "368556d5",
   "metadata": {},
   "outputs": [
    {
     "data": {
      "application/vnd.jupyter.widget-view+json": {
       "model_id": "c0e5167e3d9c4a77b44429f0043fff27",
       "version_major": 2,
       "version_minor": 0
      },
      "text/plain": [
       "VBox()"
      ]
     },
     "metadata": {},
     "output_type": "display_data"
    },
    {
     "data": {
      "application/vnd.jupyter.widget-view+json": {
       "model_id": "",
       "version_major": 2,
       "version_minor": 0
      },
      "text/plain": [
       "FloatProgress(value=0.0, bar_style='info', description='Progress:', layout=Layout(height='25px', width='50%'),…"
      ]
     },
     "metadata": {},
     "output_type": "display_data"
    }
   ],
   "source": [
    "# Fill null values with 'False' value\n",
    "clean_properties_df = clean_properties_df.fillna({'listingSubType_is_newHome': 'False'})"
   ]
  },
  {
   "cell_type": "code",
   "execution_count": 188,
   "id": "21a6f503",
   "metadata": {},
   "outputs": [
    {
     "data": {
      "application/vnd.jupyter.widget-view+json": {
       "model_id": "40732f4eb1d24b18a17204496d78b956",
       "version_major": 2,
       "version_minor": 0
      },
      "text/plain": [
       "VBox()"
      ]
     },
     "metadata": {},
     "output_type": "display_data"
    },
    {
     "data": {
      "application/vnd.jupyter.widget-view+json": {
       "model_id": "",
       "version_major": 2,
       "version_minor": 0
      },
      "text/plain": [
       "FloatProgress(value=0.0, bar_style='info', description='Progress:', layout=Layout(height='25px', width='50%'),…"
      ]
     },
     "metadata": {},
     "output_type": "display_data"
    }
   ],
   "source": [
    "clean_properties_df = clean_properties_df.where(\"listingSubType_is_newHome == False\")"
   ]
  },
  {
   "cell_type": "markdown",
   "id": "73650c84",
   "metadata": {},
   "source": [
    "# Creating Column for Street and City based off of address (just to demonstrate ability)"
   ]
  },
  {
   "cell_type": "code",
   "execution_count": 189,
   "id": "5a5b921d",
   "metadata": {},
   "outputs": [
    {
     "data": {
      "application/vnd.jupyter.widget-view+json": {
       "model_id": "46cc826dcda94382ad241fe0963f186e",
       "version_major": 2,
       "version_minor": 0
      },
      "text/plain": [
       "VBox()"
      ]
     },
     "metadata": {},
     "output_type": "display_data"
    },
    {
     "data": {
      "application/vnd.jupyter.widget-view+json": {
       "model_id": "",
       "version_major": 2,
       "version_minor": 0
      },
      "text/plain": [
       "FloatProgress(value=0.0, bar_style='info', description='Progress:', layout=Layout(height='25px', width='50%'),…"
      ]
     },
     "metadata": {},
     "output_type": "display_data"
    }
   ],
   "source": [
    "clean_properties_df = clean_properties_df.withColumn(\"Street\", split(F.col(\"address\"), \",\").getItem(0)).withColumn(\"City\", split(F.col(\"address\"), \",\").getItem(1))\n"
   ]
  },
  {
   "cell_type": "markdown",
   "id": "88f2119a",
   "metadata": {},
   "source": [
    "# Orderby price lowest to highest then orderby living area highest to lowest"
   ]
  },
  {
   "cell_type": "code",
   "execution_count": 190,
   "id": "2710f4d0",
   "metadata": {},
   "outputs": [
    {
     "data": {
      "application/vnd.jupyter.widget-view+json": {
       "model_id": "3248786cad384845aab72312f1ebfb4d",
       "version_major": 2,
       "version_minor": 0
      },
      "text/plain": [
       "VBox()"
      ]
     },
     "metadata": {},
     "output_type": "display_data"
    },
    {
     "data": {
      "application/vnd.jupyter.widget-view+json": {
       "model_id": "",
       "version_major": 2,
       "version_minor": 0
      },
      "text/plain": [
       "FloatProgress(value=0.0, bar_style='info', description='Progress:', layout=Layout(height='25px', width='50%'),…"
      ]
     },
     "metadata": {},
     "output_type": "display_data"
    }
   ],
   "source": [
    "clean_properties_df = clean_properties_df.orderBy(F.col(\"price\").asc(), F.col(\"livingArea\").desc())\n"
   ]
  },
  {
   "cell_type": "markdown",
   "id": "47f04177",
   "metadata": {},
   "source": [
    "# Groupby \n",
    "### Bed and bath (count)"
   ]
  },
  {
   "cell_type": "code",
   "execution_count": 13,
   "id": "c43c5d7a",
   "metadata": {},
   "outputs": [
    {
     "data": {
      "application/vnd.jupyter.widget-view+json": {
       "model_id": "bdcb6a7a37ee472db3d268197f7689be",
       "version_major": 2,
       "version_minor": 0
      },
      "text/plain": [
       "VBox()"
      ]
     },
     "metadata": {},
     "output_type": "display_data"
    },
    {
     "data": {
      "application/vnd.jupyter.widget-view+json": {
       "model_id": "",
       "version_major": 2,
       "version_minor": 0
      },
      "text/plain": [
       "FloatProgress(value=0.0, bar_style='info', description='Progress:', layout=Layout(height='25px', width='50%'),…"
      ]
     },
     "metadata": {},
     "output_type": "display_data"
    },
    {
     "name": "stdout",
     "output_type": "stream",
     "text": [
      "+--------+---------+-----+\n",
      "|bedrooms|bathrooms|count|\n",
      "+--------+---------+-----+\n",
      "|       3|        2|   19|\n",
      "|       3|        3|    1|\n",
      "|       4|        2|    4|\n",
      "|       2|        2|    8|\n",
      "+--------+---------+-----+"
     ]
    }
   ],
   "source": [
    "clean_properties_df.groupby(['bedrooms', 'bathrooms']).count().show()"
   ]
  },
  {
   "cell_type": "markdown",
   "id": "fcc2285b",
   "metadata": {},
   "source": [
    "### Bed and bath (avg price)"
   ]
  },
  {
   "cell_type": "code",
   "execution_count": 201,
   "id": "641b9800",
   "metadata": {},
   "outputs": [
    {
     "data": {
      "application/vnd.jupyter.widget-view+json": {
       "model_id": "5fe67fe3f39342c59db798a02c7fb4f2",
       "version_major": 2,
       "version_minor": 0
      },
      "text/plain": [
       "VBox()"
      ]
     },
     "metadata": {},
     "output_type": "display_data"
    },
    {
     "data": {
      "application/vnd.jupyter.widget-view+json": {
       "model_id": "",
       "version_major": 2,
       "version_minor": 0
      },
      "text/plain": [
       "FloatProgress(value=0.0, bar_style='info', description='Progress:', layout=Layout(height='25px', width='50%'),…"
      ]
     },
     "metadata": {},
     "output_type": "display_data"
    },
    {
     "name": "stdout",
     "output_type": "stream",
     "text": [
      "+--------+---------+-----------------+\n",
      "|bedrooms|bathrooms|       avg(price)|\n",
      "+--------+---------+-----------------+\n",
      "|       3|        2|261684.1052631579|\n",
      "|       3|        3|         295900.0|\n",
      "|       4|        2|         277722.5|\n",
      "|       2|        2|       217562.375|\n",
      "+--------+---------+-----------------+"
     ]
    }
   ],
   "source": [
    "clean_properties_df.groupby(['bedrooms', 'bathrooms']).avg('price').show()"
   ]
  },
  {
   "cell_type": "markdown",
   "id": "9cce8716",
   "metadata": {},
   "source": [
    "### Bed and bath (avg livingArea)"
   ]
  },
  {
   "cell_type": "code",
   "execution_count": 233,
   "id": "fcb54110",
   "metadata": {},
   "outputs": [
    {
     "data": {
      "application/vnd.jupyter.widget-view+json": {
       "model_id": "370591d05b6a44e88a34a454b14ee5bd",
       "version_major": 2,
       "version_minor": 0
      },
      "text/plain": [
       "VBox()"
      ]
     },
     "metadata": {},
     "output_type": "display_data"
    },
    {
     "data": {
      "application/vnd.jupyter.widget-view+json": {
       "model_id": "",
       "version_major": 2,
       "version_minor": 0
      },
      "text/plain": [
       "FloatProgress(value=0.0, bar_style='info', description='Progress:', layout=Layout(height='25px', width='50%'),…"
      ]
     },
     "metadata": {},
     "output_type": "display_data"
    },
    {
     "name": "stdout",
     "output_type": "stream",
     "text": [
      "+--------+---------+------------------+\n",
      "|bedrooms|bathrooms|   avg(livingArea)|\n",
      "+--------+---------+------------------+\n",
      "|       2|        2|          1069.125|\n",
      "|       3|        2|1318.9473684210527|\n",
      "|       4|        2|            1510.5|\n",
      "|       3|        3|            1664.0|\n",
      "+--------+---------+------------------+"
     ]
    }
   ],
   "source": [
    "clean_properties_df.groupby(['bedrooms', 'bathrooms']).avg('livingArea').sort('avg(livingArea)').show()\n",
    "\n",
    "  "
   ]
  },
  {
   "cell_type": "markdown",
   "id": "760b75fb",
   "metadata": {},
   "source": [
    "### PropertyType, Bed, and bath (count)"
   ]
  },
  {
   "cell_type": "code",
   "execution_count": 237,
   "id": "0cda0af9",
   "metadata": {},
   "outputs": [
    {
     "data": {
      "application/vnd.jupyter.widget-view+json": {
       "model_id": "f9be2a4705b445e78fcac9c21c13ab30",
       "version_major": 2,
       "version_minor": 0
      },
      "text/plain": [
       "VBox()"
      ]
     },
     "metadata": {},
     "output_type": "display_data"
    },
    {
     "data": {
      "application/vnd.jupyter.widget-view+json": {
       "model_id": "",
       "version_major": 2,
       "version_minor": 0
      },
      "text/plain": [
       "FloatProgress(value=0.0, bar_style='info', description='Progress:', layout=Layout(height='25px', width='50%'),…"
      ]
     },
     "metadata": {},
     "output_type": "display_data"
    },
    {
     "name": "stdout",
     "output_type": "stream",
     "text": [
      "+-------------+--------+---------+-----+\n",
      "| propertyType|bedrooms|bathrooms|count|\n",
      "+-------------+--------+---------+-----+\n",
      "| MULTI_FAMILY|       3|        2|    1|\n",
      "|SINGLE_FAMILY|       3|        3|    1|\n",
      "| MULTI_FAMILY|       2|        2|    2|\n",
      "|SINGLE_FAMILY|       4|        2|    4|\n",
      "|SINGLE_FAMILY|       2|        2|    6|\n",
      "|SINGLE_FAMILY|       3|        2|   18|\n",
      "+-------------+--------+---------+-----+"
     ]
    }
   ],
   "source": [
    "clean_properties_df.groupby(['propertyType', 'bedrooms', 'bathrooms']).count().sort('count').show()"
   ]
  },
  {
   "cell_type": "markdown",
   "id": "0c3d2477",
   "metadata": {},
   "source": [
    "### PropertyType, Bed, and bath (avg living area)"
   ]
  },
  {
   "cell_type": "code",
   "execution_count": 235,
   "id": "6c768a3b",
   "metadata": {},
   "outputs": [
    {
     "data": {
      "application/vnd.jupyter.widget-view+json": {
       "model_id": "667555df98c449ad9c60b5cd796da603",
       "version_major": 2,
       "version_minor": 0
      },
      "text/plain": [
       "VBox()"
      ]
     },
     "metadata": {},
     "output_type": "display_data"
    },
    {
     "data": {
      "application/vnd.jupyter.widget-view+json": {
       "model_id": "",
       "version_major": 2,
       "version_minor": 0
      },
      "text/plain": [
       "FloatProgress(value=0.0, bar_style='info', description='Progress:', layout=Layout(height='25px', width='50%'),…"
      ]
     },
     "metadata": {},
     "output_type": "display_data"
    },
    {
     "name": "stdout",
     "output_type": "stream",
     "text": [
      "+-------------+--------+---------+------------------+\n",
      "| propertyType|bedrooms|bathrooms|   avg(livingArea)|\n",
      "+-------------+--------+---------+------------------+\n",
      "|SINGLE_FAMILY|       2|        2|1036.3333333333333|\n",
      "| MULTI_FAMILY|       2|        2|            1167.5|\n",
      "|SINGLE_FAMILY|       3|        2|1304.8333333333333|\n",
      "|SINGLE_FAMILY|       4|        2|            1510.5|\n",
      "| MULTI_FAMILY|       3|        2|            1573.0|\n",
      "|SINGLE_FAMILY|       3|        3|            1664.0|\n",
      "+-------------+--------+---------+------------------+"
     ]
    }
   ],
   "source": [
    "clean_properties_df.groupby(['propertyType', 'bedrooms', 'bathrooms']).avg('livingArea').sort('avg(livingArea)').show()"
   ]
  },
  {
   "cell_type": "markdown",
   "id": "c9e64141",
   "metadata": {},
   "source": [
    "### Homes for auction (count)"
   ]
  },
  {
   "cell_type": "code",
   "execution_count": 172,
   "id": "8a7f41b3",
   "metadata": {},
   "outputs": [
    {
     "data": {
      "application/vnd.jupyter.widget-view+json": {
       "model_id": "f416486a6cbd46b2be43424f59223eaa",
       "version_major": 2,
       "version_minor": 0
      },
      "text/plain": [
       "VBox()"
      ]
     },
     "metadata": {},
     "output_type": "display_data"
    },
    {
     "data": {
      "application/vnd.jupyter.widget-view+json": {
       "model_id": "",
       "version_major": 2,
       "version_minor": 0
      },
      "text/plain": [
       "FloatProgress(value=0.0, bar_style='info', description='Progress:', layout=Layout(height='25px', width='50%'),…"
      ]
     },
     "metadata": {},
     "output_type": "display_data"
    },
    {
     "name": "stdout",
     "output_type": "stream",
     "text": [
      "+----------------------------+-----+\n",
      "|listingSubType_is_forAuction|count|\n",
      "+----------------------------+-----+\n",
      "|                        null|   33|\n",
      "|                        true|    1|\n",
      "+----------------------------+-----+"
     ]
    }
   ],
   "source": [
    "clean_properties_df.groupby('listingSubType_is_forAuction').count().show()"
   ]
  },
  {
   "cell_type": "markdown",
   "id": "80e0ee48",
   "metadata": {},
   "source": [
    "# Write Spark DF to S3 bucket as a CSV"
   ]
  },
  {
   "cell_type": "code",
   "execution_count": 1,
   "id": "eae17f32",
   "metadata": {},
   "outputs": [
    {
     "data": {
      "application/vnd.jupyter.widget-view+json": {
       "model_id": "ab5309f022e34793b8bfc8490f0275d3",
       "version_major": 2,
       "version_minor": 0
      },
      "text/plain": [
       "VBox()"
      ]
     },
     "metadata": {},
     "output_type": "display_data"
    },
    {
     "name": "stdout",
     "output_type": "stream",
     "text": [
      "Starting Spark application\n"
     ]
    },
    {
     "ename": "KeyboardInterrupt",
     "evalue": "",
     "output_type": "error",
     "traceback": [
      "\u001b[0;31m---------------------------------------------------------------------------\u001b[0m",
      "\u001b[0;31mKeyboardInterrupt\u001b[0m                         Traceback (most recent call last)",
      "\u001b[0;32m<ipython-input-1-346fb30e79e2>\u001b[0m in \u001b[0;36m<module>\u001b[0;34m\u001b[0m\n\u001b[0;32m----> 1\u001b[0;31m \u001b[0mget_ipython\u001b[0m\u001b[0;34m(\u001b[0m\u001b[0;34m)\u001b[0m\u001b[0;34m.\u001b[0m\u001b[0mrun_cell_magic\u001b[0m\u001b[0;34m(\u001b[0m\u001b[0;34m'spark'\u001b[0m\u001b[0;34m,\u001b[0m \u001b[0;34m''\u001b[0m\u001b[0;34m,\u001b[0m \u001b[0;34m'# coalesce(1) writes csv to one file in S3\\nclean_properties_df.coalesce(1) \\\\\\n    .write.format(\\'csv\\') \\\\\\n    .mode(\\'overwrite\\') \\\\\\n    .option(\"header\", \"true\") \\\\\\n    .save(f\\'s3://real-estate-filtered-data/property-prospects/{city}.csv/\\')\\n'\u001b[0m\u001b[0;34m)\u001b[0m\u001b[0;34m\u001b[0m\u001b[0;34m\u001b[0m\u001b[0m\n\u001b[0m",
      "\u001b[0;32m/mnt/notebook-env/lib/python3.7/site-packages/IPython/core/interactiveshell.py\u001b[0m in \u001b[0;36mrun_cell_magic\u001b[0;34m(self, magic_name, line, cell)\u001b[0m\n\u001b[1;32m   2417\u001b[0m             \u001b[0;32mwith\u001b[0m \u001b[0mself\u001b[0m\u001b[0;34m.\u001b[0m\u001b[0mbuiltin_trap\u001b[0m\u001b[0;34m:\u001b[0m\u001b[0;34m\u001b[0m\u001b[0;34m\u001b[0m\u001b[0m\n\u001b[1;32m   2418\u001b[0m                 \u001b[0margs\u001b[0m \u001b[0;34m=\u001b[0m \u001b[0;34m(\u001b[0m\u001b[0mmagic_arg_s\u001b[0m\u001b[0;34m,\u001b[0m \u001b[0mcell\u001b[0m\u001b[0;34m)\u001b[0m\u001b[0;34m\u001b[0m\u001b[0;34m\u001b[0m\u001b[0m\n\u001b[0;32m-> 2419\u001b[0;31m                 \u001b[0mresult\u001b[0m \u001b[0;34m=\u001b[0m \u001b[0mfn\u001b[0m\u001b[0;34m(\u001b[0m\u001b[0;34m*\u001b[0m\u001b[0margs\u001b[0m\u001b[0;34m,\u001b[0m \u001b[0;34m**\u001b[0m\u001b[0mkwargs\u001b[0m\u001b[0;34m)\u001b[0m\u001b[0;34m\u001b[0m\u001b[0;34m\u001b[0m\u001b[0m\n\u001b[0m\u001b[1;32m   2420\u001b[0m             \u001b[0;32mreturn\u001b[0m \u001b[0mresult\u001b[0m\u001b[0;34m\u001b[0m\u001b[0;34m\u001b[0m\u001b[0m\n\u001b[1;32m   2421\u001b[0m \u001b[0;34m\u001b[0m\u001b[0m\n",
      "\u001b[0;32m/mnt/notebook-env/lib/python3.7/site-packages/decorator.py\u001b[0m in \u001b[0;36mfun\u001b[0;34m(*args, **kw)\u001b[0m\n\u001b[1;32m    230\u001b[0m             \u001b[0;32mif\u001b[0m \u001b[0;32mnot\u001b[0m \u001b[0mkwsyntax\u001b[0m\u001b[0;34m:\u001b[0m\u001b[0;34m\u001b[0m\u001b[0;34m\u001b[0m\u001b[0m\n\u001b[1;32m    231\u001b[0m                 \u001b[0margs\u001b[0m\u001b[0;34m,\u001b[0m \u001b[0mkw\u001b[0m \u001b[0;34m=\u001b[0m \u001b[0mfix\u001b[0m\u001b[0;34m(\u001b[0m\u001b[0margs\u001b[0m\u001b[0;34m,\u001b[0m \u001b[0mkw\u001b[0m\u001b[0;34m,\u001b[0m \u001b[0msig\u001b[0m\u001b[0;34m)\u001b[0m\u001b[0;34m\u001b[0m\u001b[0;34m\u001b[0m\u001b[0m\n\u001b[0;32m--> 232\u001b[0;31m             \u001b[0;32mreturn\u001b[0m \u001b[0mcaller\u001b[0m\u001b[0;34m(\u001b[0m\u001b[0mfunc\u001b[0m\u001b[0;34m,\u001b[0m \u001b[0;34m*\u001b[0m\u001b[0;34m(\u001b[0m\u001b[0mextras\u001b[0m \u001b[0;34m+\u001b[0m \u001b[0margs\u001b[0m\u001b[0;34m)\u001b[0m\u001b[0;34m,\u001b[0m \u001b[0;34m**\u001b[0m\u001b[0mkw\u001b[0m\u001b[0;34m)\u001b[0m\u001b[0;34m\u001b[0m\u001b[0;34m\u001b[0m\u001b[0m\n\u001b[0m\u001b[1;32m    233\u001b[0m     \u001b[0mfun\u001b[0m\u001b[0;34m.\u001b[0m\u001b[0m__name__\u001b[0m \u001b[0;34m=\u001b[0m \u001b[0mfunc\u001b[0m\u001b[0;34m.\u001b[0m\u001b[0m__name__\u001b[0m\u001b[0;34m\u001b[0m\u001b[0;34m\u001b[0m\u001b[0m\n\u001b[1;32m    234\u001b[0m     \u001b[0mfun\u001b[0m\u001b[0;34m.\u001b[0m\u001b[0m__doc__\u001b[0m \u001b[0;34m=\u001b[0m \u001b[0mfunc\u001b[0m\u001b[0;34m.\u001b[0m\u001b[0m__doc__\u001b[0m\u001b[0;34m\u001b[0m\u001b[0;34m\u001b[0m\u001b[0m\n",
      "\u001b[0;32m/mnt/notebook-env/lib/python3.7/site-packages/IPython/core/magic.py\u001b[0m in \u001b[0;36m<lambda>\u001b[0;34m(f, *a, **k)\u001b[0m\n\u001b[1;32m    185\u001b[0m     \u001b[0;31m# but it's overkill for just that one bit of state.\u001b[0m\u001b[0;34m\u001b[0m\u001b[0;34m\u001b[0m\u001b[0;34m\u001b[0m\u001b[0m\n\u001b[1;32m    186\u001b[0m     \u001b[0;32mdef\u001b[0m \u001b[0mmagic_deco\u001b[0m\u001b[0;34m(\u001b[0m\u001b[0marg\u001b[0m\u001b[0;34m)\u001b[0m\u001b[0;34m:\u001b[0m\u001b[0;34m\u001b[0m\u001b[0;34m\u001b[0m\u001b[0m\n\u001b[0;32m--> 187\u001b[0;31m         \u001b[0mcall\u001b[0m \u001b[0;34m=\u001b[0m \u001b[0;32mlambda\u001b[0m \u001b[0mf\u001b[0m\u001b[0;34m,\u001b[0m \u001b[0;34m*\u001b[0m\u001b[0ma\u001b[0m\u001b[0;34m,\u001b[0m \u001b[0;34m**\u001b[0m\u001b[0mk\u001b[0m\u001b[0;34m:\u001b[0m \u001b[0mf\u001b[0m\u001b[0;34m(\u001b[0m\u001b[0;34m*\u001b[0m\u001b[0ma\u001b[0m\u001b[0;34m,\u001b[0m \u001b[0;34m**\u001b[0m\u001b[0mk\u001b[0m\u001b[0;34m)\u001b[0m\u001b[0;34m\u001b[0m\u001b[0;34m\u001b[0m\u001b[0m\n\u001b[0m\u001b[1;32m    188\u001b[0m \u001b[0;34m\u001b[0m\u001b[0m\n\u001b[1;32m    189\u001b[0m         \u001b[0;32mif\u001b[0m \u001b[0mcallable\u001b[0m\u001b[0;34m(\u001b[0m\u001b[0marg\u001b[0m\u001b[0;34m)\u001b[0m\u001b[0;34m:\u001b[0m\u001b[0;34m\u001b[0m\u001b[0;34m\u001b[0m\u001b[0m\n",
      "\u001b[0;32m/mnt/notebook-env/lib/python3.7/site-packages/sparkmagic/livyclientlib/exceptions.py\u001b[0m in \u001b[0;36mwrapped\u001b[0;34m(self, *args, **kwargs)\u001b[0m\n\u001b[1;32m    138\u001b[0m     \u001b[0;32mdef\u001b[0m \u001b[0mwrapped\u001b[0m\u001b[0;34m(\u001b[0m\u001b[0mself\u001b[0m\u001b[0;34m,\u001b[0m \u001b[0;34m*\u001b[0m\u001b[0margs\u001b[0m\u001b[0;34m,\u001b[0m \u001b[0;34m**\u001b[0m\u001b[0mkwargs\u001b[0m\u001b[0;34m)\u001b[0m\u001b[0;34m:\u001b[0m\u001b[0;34m\u001b[0m\u001b[0;34m\u001b[0m\u001b[0m\n\u001b[1;32m    139\u001b[0m         \u001b[0;32mtry\u001b[0m\u001b[0;34m:\u001b[0m\u001b[0;34m\u001b[0m\u001b[0;34m\u001b[0m\u001b[0m\n\u001b[0;32m--> 140\u001b[0;31m             \u001b[0mout\u001b[0m \u001b[0;34m=\u001b[0m \u001b[0mf\u001b[0m\u001b[0;34m(\u001b[0m\u001b[0mself\u001b[0m\u001b[0;34m,\u001b[0m \u001b[0;34m*\u001b[0m\u001b[0margs\u001b[0m\u001b[0;34m,\u001b[0m \u001b[0;34m**\u001b[0m\u001b[0mkwargs\u001b[0m\u001b[0;34m)\u001b[0m\u001b[0;34m\u001b[0m\u001b[0;34m\u001b[0m\u001b[0m\n\u001b[0m\u001b[1;32m    141\u001b[0m         \u001b[0;32mexcept\u001b[0m \u001b[0mException\u001b[0m \u001b[0;32mas\u001b[0m \u001b[0merr\u001b[0m\u001b[0;34m:\u001b[0m\u001b[0;34m\u001b[0m\u001b[0;34m\u001b[0m\u001b[0m\n\u001b[1;32m    142\u001b[0m             \u001b[0;32mif\u001b[0m \u001b[0mconf\u001b[0m\u001b[0;34m.\u001b[0m\u001b[0mall_errors_are_fatal\u001b[0m\u001b[0;34m(\u001b[0m\u001b[0;34m)\u001b[0m\u001b[0;34m:\u001b[0m\u001b[0;34m\u001b[0m\u001b[0;34m\u001b[0m\u001b[0m\n",
      "\u001b[0;32m/mnt/notebook-env/lib/python3.7/site-packages/sparkmagic/livyclientlib/exceptions.py\u001b[0m in \u001b[0;36mwrapped\u001b[0;34m(self, *args, **kwargs)\u001b[0m\n\u001b[1;32m    105\u001b[0m     \u001b[0;32mdef\u001b[0m \u001b[0mwrapped\u001b[0m\u001b[0;34m(\u001b[0m\u001b[0mself\u001b[0m\u001b[0;34m,\u001b[0m \u001b[0;34m*\u001b[0m\u001b[0margs\u001b[0m\u001b[0;34m,\u001b[0m \u001b[0;34m**\u001b[0m\u001b[0mkwargs\u001b[0m\u001b[0;34m)\u001b[0m\u001b[0;34m:\u001b[0m\u001b[0;34m\u001b[0m\u001b[0;34m\u001b[0m\u001b[0m\n\u001b[1;32m    106\u001b[0m         \u001b[0;32mtry\u001b[0m\u001b[0;34m:\u001b[0m\u001b[0;34m\u001b[0m\u001b[0;34m\u001b[0m\u001b[0m\n\u001b[0;32m--> 107\u001b[0;31m             \u001b[0mout\u001b[0m \u001b[0;34m=\u001b[0m \u001b[0mf\u001b[0m\u001b[0;34m(\u001b[0m\u001b[0mself\u001b[0m\u001b[0;34m,\u001b[0m \u001b[0;34m*\u001b[0m\u001b[0margs\u001b[0m\u001b[0;34m,\u001b[0m \u001b[0;34m**\u001b[0m\u001b[0mkwargs\u001b[0m\u001b[0;34m)\u001b[0m\u001b[0;34m\u001b[0m\u001b[0;34m\u001b[0m\u001b[0m\n\u001b[0m\u001b[1;32m    108\u001b[0m         \u001b[0;32mexcept\u001b[0m \u001b[0mexceptions_to_handle\u001b[0m \u001b[0;32mas\u001b[0m \u001b[0merr\u001b[0m\u001b[0;34m:\u001b[0m\u001b[0;34m\u001b[0m\u001b[0;34m\u001b[0m\u001b[0m\n\u001b[1;32m    109\u001b[0m             \u001b[0;32mif\u001b[0m \u001b[0mconf\u001b[0m\u001b[0;34m.\u001b[0m\u001b[0mall_errors_are_fatal\u001b[0m\u001b[0;34m(\u001b[0m\u001b[0;34m)\u001b[0m\u001b[0;34m:\u001b[0m\u001b[0;34m\u001b[0m\u001b[0;34m\u001b[0m\u001b[0m\n",
      "\u001b[0;32m/mnt/notebook-env/lib/python3.7/site-packages/sparkmagic/kernels/kernelmagics.py\u001b[0m in \u001b[0;36mspark\u001b[0;34m(self, line, cell, local_ns)\u001b[0m\n\u001b[1;32m    371\u001b[0m     \u001b[0;34m@\u001b[0m\u001b[0mhandle_expected_exceptions\u001b[0m\u001b[0;34m\u001b[0m\u001b[0;34m\u001b[0m\u001b[0m\n\u001b[1;32m    372\u001b[0m     \u001b[0;32mdef\u001b[0m \u001b[0mspark\u001b[0m\u001b[0;34m(\u001b[0m\u001b[0mself\u001b[0m\u001b[0;34m,\u001b[0m \u001b[0mline\u001b[0m\u001b[0;34m,\u001b[0m \u001b[0mcell\u001b[0m\u001b[0;34m=\u001b[0m\u001b[0;34m\"\"\u001b[0m\u001b[0;34m,\u001b[0m \u001b[0mlocal_ns\u001b[0m\u001b[0;34m=\u001b[0m\u001b[0;32mNone\u001b[0m\u001b[0;34m)\u001b[0m\u001b[0;34m:\u001b[0m\u001b[0;34m\u001b[0m\u001b[0;34m\u001b[0m\u001b[0m\n\u001b[0;32m--> 373\u001b[0;31m         \u001b[0;32mif\u001b[0m \u001b[0;32mnot\u001b[0m \u001b[0mself\u001b[0m\u001b[0;34m.\u001b[0m\u001b[0m_do_not_call_start_session\u001b[0m\u001b[0;34m(\u001b[0m\u001b[0;34mu\"\"\u001b[0m\u001b[0;34m)\u001b[0m\u001b[0;34m:\u001b[0m\u001b[0;34m\u001b[0m\u001b[0;34m\u001b[0m\u001b[0m\n\u001b[0m\u001b[1;32m    374\u001b[0m             \u001b[0;32mreturn\u001b[0m\u001b[0;34m\u001b[0m\u001b[0;34m\u001b[0m\u001b[0m\n\u001b[1;32m    375\u001b[0m \u001b[0;34m\u001b[0m\u001b[0m\n",
      "\u001b[0;32m/mnt/notebook-env/lib/python3.7/site-packages/decorator.py\u001b[0m in \u001b[0;36mfun\u001b[0;34m(*args, **kw)\u001b[0m\n\u001b[1;32m    230\u001b[0m             \u001b[0;32mif\u001b[0m \u001b[0;32mnot\u001b[0m \u001b[0mkwsyntax\u001b[0m\u001b[0;34m:\u001b[0m\u001b[0;34m\u001b[0m\u001b[0;34m\u001b[0m\u001b[0m\n\u001b[1;32m    231\u001b[0m                 \u001b[0margs\u001b[0m\u001b[0;34m,\u001b[0m \u001b[0mkw\u001b[0m \u001b[0;34m=\u001b[0m \u001b[0mfix\u001b[0m\u001b[0;34m(\u001b[0m\u001b[0margs\u001b[0m\u001b[0;34m,\u001b[0m \u001b[0mkw\u001b[0m\u001b[0;34m,\u001b[0m \u001b[0msig\u001b[0m\u001b[0;34m)\u001b[0m\u001b[0;34m\u001b[0m\u001b[0;34m\u001b[0m\u001b[0m\n\u001b[0;32m--> 232\u001b[0;31m             \u001b[0;32mreturn\u001b[0m \u001b[0mcaller\u001b[0m\u001b[0;34m(\u001b[0m\u001b[0mfunc\u001b[0m\u001b[0;34m,\u001b[0m \u001b[0;34m*\u001b[0m\u001b[0;34m(\u001b[0m\u001b[0mextras\u001b[0m \u001b[0;34m+\u001b[0m \u001b[0margs\u001b[0m\u001b[0;34m)\u001b[0m\u001b[0;34m,\u001b[0m \u001b[0;34m**\u001b[0m\u001b[0mkw\u001b[0m\u001b[0;34m)\u001b[0m\u001b[0;34m\u001b[0m\u001b[0;34m\u001b[0m\u001b[0m\n\u001b[0m\u001b[1;32m    233\u001b[0m     \u001b[0mfun\u001b[0m\u001b[0;34m.\u001b[0m\u001b[0m__name__\u001b[0m \u001b[0;34m=\u001b[0m \u001b[0mfunc\u001b[0m\u001b[0;34m.\u001b[0m\u001b[0m__name__\u001b[0m\u001b[0;34m\u001b[0m\u001b[0;34m\u001b[0m\u001b[0m\n\u001b[1;32m    234\u001b[0m     \u001b[0mfun\u001b[0m\u001b[0;34m.\u001b[0m\u001b[0m__doc__\u001b[0m \u001b[0;34m=\u001b[0m \u001b[0mfunc\u001b[0m\u001b[0;34m.\u001b[0m\u001b[0m__doc__\u001b[0m\u001b[0;34m\u001b[0m\u001b[0;34m\u001b[0m\u001b[0m\n",
      "\u001b[0;32m/mnt/notebook-env/lib/python3.7/site-packages/IPython/core/magic.py\u001b[0m in \u001b[0;36m<lambda>\u001b[0;34m(f, *a, **k)\u001b[0m\n\u001b[1;32m    185\u001b[0m     \u001b[0;31m# but it's overkill for just that one bit of state.\u001b[0m\u001b[0;34m\u001b[0m\u001b[0;34m\u001b[0m\u001b[0;34m\u001b[0m\u001b[0m\n\u001b[1;32m    186\u001b[0m     \u001b[0;32mdef\u001b[0m \u001b[0mmagic_deco\u001b[0m\u001b[0;34m(\u001b[0m\u001b[0marg\u001b[0m\u001b[0;34m)\u001b[0m\u001b[0;34m:\u001b[0m\u001b[0;34m\u001b[0m\u001b[0;34m\u001b[0m\u001b[0m\n\u001b[0;32m--> 187\u001b[0;31m         \u001b[0mcall\u001b[0m \u001b[0;34m=\u001b[0m \u001b[0;32mlambda\u001b[0m \u001b[0mf\u001b[0m\u001b[0;34m,\u001b[0m \u001b[0;34m*\u001b[0m\u001b[0ma\u001b[0m\u001b[0;34m,\u001b[0m \u001b[0;34m**\u001b[0m\u001b[0mk\u001b[0m\u001b[0;34m:\u001b[0m \u001b[0mf\u001b[0m\u001b[0;34m(\u001b[0m\u001b[0;34m*\u001b[0m\u001b[0ma\u001b[0m\u001b[0;34m,\u001b[0m \u001b[0;34m**\u001b[0m\u001b[0mk\u001b[0m\u001b[0;34m)\u001b[0m\u001b[0;34m\u001b[0m\u001b[0;34m\u001b[0m\u001b[0m\n\u001b[0m\u001b[1;32m    188\u001b[0m \u001b[0;34m\u001b[0m\u001b[0m\n\u001b[1;32m    189\u001b[0m         \u001b[0;32mif\u001b[0m \u001b[0mcallable\u001b[0m\u001b[0;34m(\u001b[0m\u001b[0marg\u001b[0m\u001b[0;34m)\u001b[0m\u001b[0;34m:\u001b[0m\u001b[0;34m\u001b[0m\u001b[0;34m\u001b[0m\u001b[0m\n",
      "\u001b[0;32m/mnt/notebook-env/lib/python3.7/site-packages/sparkmagic/kernels/kernelmagics.py\u001b[0m in \u001b[0;36m_do_not_call_start_session\u001b[0;34m(self, line, cell, local_ns)\u001b[0m\n\u001b[1;32m    515\u001b[0m \u001b[0;34m\u001b[0m\u001b[0m\n\u001b[1;32m    516\u001b[0m             \u001b[0;32mtry\u001b[0m\u001b[0;34m:\u001b[0m\u001b[0;34m\u001b[0m\u001b[0;34m\u001b[0m\u001b[0m\n\u001b[0;32m--> 517\u001b[0;31m                 \u001b[0mself\u001b[0m\u001b[0;34m.\u001b[0m\u001b[0mspark_controller\u001b[0m\u001b[0;34m.\u001b[0m\u001b[0madd_session\u001b[0m\u001b[0;34m(\u001b[0m\u001b[0mself\u001b[0m\u001b[0;34m.\u001b[0m\u001b[0msession_name\u001b[0m\u001b[0;34m,\u001b[0m \u001b[0mself\u001b[0m\u001b[0;34m.\u001b[0m\u001b[0mendpoint\u001b[0m\u001b[0;34m,\u001b[0m \u001b[0mskip\u001b[0m\u001b[0;34m,\u001b[0m \u001b[0mproperties\u001b[0m\u001b[0;34m)\u001b[0m\u001b[0;34m\u001b[0m\u001b[0;34m\u001b[0m\u001b[0m\n\u001b[0m\u001b[1;32m    518\u001b[0m                 \u001b[0mself\u001b[0m\u001b[0;34m.\u001b[0m\u001b[0msession_started\u001b[0m \u001b[0;34m=\u001b[0m \u001b[0;32mTrue\u001b[0m\u001b[0;34m\u001b[0m\u001b[0;34m\u001b[0m\u001b[0m\n\u001b[1;32m    519\u001b[0m                 \u001b[0mself\u001b[0m\u001b[0;34m.\u001b[0m\u001b[0mfatal_error\u001b[0m \u001b[0;34m=\u001b[0m \u001b[0;32mFalse\u001b[0m\u001b[0;34m\u001b[0m\u001b[0;34m\u001b[0m\u001b[0m\n",
      "\u001b[0;32m/mnt/notebook-env/lib/python3.7/site-packages/sparkmagic/livyclientlib/sparkcontroller.py\u001b[0m in \u001b[0;36madd_session\u001b[0;34m(self, name, endpoint, skip_if_exists, properties)\u001b[0m\n\u001b[1;32m     96\u001b[0m \u001b[0;34m\u001b[0m\u001b[0m\n\u001b[1;32m     97\u001b[0m         \u001b[0;32mtry\u001b[0m\u001b[0;34m:\u001b[0m\u001b[0;34m\u001b[0m\u001b[0;34m\u001b[0m\u001b[0m\n\u001b[0;32m---> 98\u001b[0;31m             \u001b[0msession\u001b[0m\u001b[0;34m.\u001b[0m\u001b[0mstart\u001b[0m\u001b[0;34m(\u001b[0m\u001b[0;34m)\u001b[0m\u001b[0;34m\u001b[0m\u001b[0;34m\u001b[0m\u001b[0m\n\u001b[0m\u001b[1;32m     99\u001b[0m         \u001b[0;32mexcept\u001b[0m\u001b[0;34m:\u001b[0m\u001b[0;34m\u001b[0m\u001b[0;34m\u001b[0m\u001b[0m\n\u001b[1;32m    100\u001b[0m             \u001b[0;32mif\u001b[0m \u001b[0msession\u001b[0m\u001b[0;34m.\u001b[0m\u001b[0mis_posted\u001b[0m\u001b[0;34m(\u001b[0m\u001b[0;34m)\u001b[0m\u001b[0;34m:\u001b[0m\u001b[0;34m\u001b[0m\u001b[0;34m\u001b[0m\u001b[0m\n",
      "\u001b[0;32m/mnt/notebook-env/lib/python3.7/site-packages/sparkmagic/livyclientlib/livysession.py\u001b[0m in \u001b[0;36mstart\u001b[0;34m(self)\u001b[0m\n\u001b[1;32m    149\u001b[0m             \u001b[0;31m# We wait for livy_session_startup_timeout_seconds() for the session to start up.\u001b[0m\u001b[0;34m\u001b[0m\u001b[0;34m\u001b[0m\u001b[0;34m\u001b[0m\u001b[0m\n\u001b[1;32m    150\u001b[0m             \u001b[0;32mtry\u001b[0m\u001b[0;34m:\u001b[0m\u001b[0;34m\u001b[0m\u001b[0;34m\u001b[0m\u001b[0m\n\u001b[0;32m--> 151\u001b[0;31m                 \u001b[0mself\u001b[0m\u001b[0;34m.\u001b[0m\u001b[0mwait_for_idle\u001b[0m\u001b[0;34m(\u001b[0m\u001b[0mconf\u001b[0m\u001b[0;34m.\u001b[0m\u001b[0mlivy_session_startup_timeout_seconds\u001b[0m\u001b[0;34m(\u001b[0m\u001b[0;34m)\u001b[0m\u001b[0;34m)\u001b[0m\u001b[0;34m\u001b[0m\u001b[0;34m\u001b[0m\u001b[0m\n\u001b[0m\u001b[1;32m    152\u001b[0m             \u001b[0;32mexcept\u001b[0m \u001b[0mLivyClientTimeoutException\u001b[0m\u001b[0;34m:\u001b[0m\u001b[0;34m\u001b[0m\u001b[0;34m\u001b[0m\u001b[0m\n\u001b[1;32m    153\u001b[0m                 raise LivyClientTimeoutException(u\"Session {} did not start up in {} seconds.\"\n",
      "\u001b[0;32m/mnt/notebook-env/lib/python3.7/site-packages/sparkmagic/livyclientlib/livysession.py\u001b[0m in \u001b[0;36mwait_for_idle\u001b[0;34m(self, seconds_to_wait)\u001b[0m\n\u001b[1;32m    288\u001b[0m             self.logger.debug(u\"Session {} in state {}. Sleeping {} seconds.\"\n\u001b[1;32m    289\u001b[0m                               .format(self.id, self.status, sleep_time))\n\u001b[0;32m--> 290\u001b[0;31m             \u001b[0msleep\u001b[0m\u001b[0;34m(\u001b[0m\u001b[0msleep_time\u001b[0m\u001b[0;34m)\u001b[0m\u001b[0;34m\u001b[0m\u001b[0;34m\u001b[0m\u001b[0m\n\u001b[0m\u001b[1;32m    291\u001b[0m             \u001b[0mseconds_to_wait\u001b[0m \u001b[0;34m-=\u001b[0m \u001b[0mtime\u001b[0m\u001b[0;34m(\u001b[0m\u001b[0;34m)\u001b[0m \u001b[0;34m-\u001b[0m \u001b[0mstart_time\u001b[0m\u001b[0;34m\u001b[0m\u001b[0;34m\u001b[0m\u001b[0m\n\u001b[1;32m    292\u001b[0m \u001b[0;34m\u001b[0m\u001b[0m\n",
      "\u001b[0;31mKeyboardInterrupt\u001b[0m: "
     ]
    }
   ],
   "source": [
    "# coalesce(1) writes csv to one file in S3\n",
    "clean_properties_df.coalesce(1) \\\n",
    "    .write.format('csv') \\\n",
    "    .mode('overwrite') \\\n",
    "    .option(\"header\", \"true\") \\\n",
    "    .save(f's3://real-estate-filtered-data/property-prospects/{city}.csv/')\n"
   ]
  },
  {
   "cell_type": "code",
   "execution_count": null,
   "id": "cf993ef5",
   "metadata": {},
   "outputs": [],
   "source": []
  }
 ],
 "metadata": {
  "kernelspec": {
   "display_name": "PySpark",
   "language": "python",
   "name": "pysparkkernel"
  },
  "language_info": {
   "codemirror_mode": {
    "name": "python",
    "version": 3
   },
   "file_extension": ".py",
   "mimetype": "text/x-python",
   "name": "pyspark",
   "pygments_lexer": "python3"
  }
 },
 "nbformat": 4,
 "nbformat_minor": 5
}
